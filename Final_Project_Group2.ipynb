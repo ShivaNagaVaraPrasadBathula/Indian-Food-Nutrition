{
 "cells": [
  {
   "cell_type": "markdown",
   "metadata": {
    "id": "i5AnuNsdnB6e"
   },
   "source": [
    "### Eat Smart: Leveraging Machine Learning and NLP for Contextual Nutritional Analysis of Indian Cuisine"
   ]
  },
  {
   "cell_type": "markdown",
   "metadata": {
    "id": "gQFxib3gVzFg"
   },
   "source": [
    "### Abstract\n",
    "This report introduces Eat Smart, a data-driven framework aimed at understanding and improving nutritional awareness within Indian dietary contexts. We propose an interpretable machine learning (ML) model for calorie prediction based on macronutrients and cooking style, coupled with natural language processing (NLP) techniques for semantic classification of dishes. Additionally, a prototype recommender system highlights fiber-rich, low-calorie options, and the complete solution is deployed using a user-friendly Streamlit interface. Results demonstrate high predictive accuracy (R² = 0.98), semantic versatility using zero-shot classification, and strong applicability to personalized dietary planning."
   ]
  },
  {
   "cell_type": "markdown",
   "metadata": {
    "id": "GOXl-XoHn1Sq"
   },
   "source": [
    "## 1. Introduction"
   ]
  },
  {
   "cell_type": "markdown",
   "metadata": {
    "id": "rDRTHcaen1Sq"
   },
   "source": [
    "### 1.1 Background\n",
    "India's culinary heritage is marked by its diversity, vibrancy, and rich regional traditions. However, this diversity poses challenges when designing automated tools to evaluate the healthiness of Indian meals. Most nutrition tracking applications are designed around Western food databases, limiting their relevance to Indian consumers. Furthermore, standardized metrics such as portion sizes, preparation methods, and ingredient breakdowns are inconsistently reported or absent in Indian contexts.\n",
    "\n",
    "Against this backdrop, developing an intelligent, culturally contextualized nutrition analysis system becomes crucial. Indian foods are often calorie-dense and preparation-heavy, with frying, sautéing, and spice layering influencing their nutritional profile in nuanced ways. Understanding these characteristics and delivering personalized insights to users requires a blend of machine learning for predictive modeling and NLP for cultural semantics.\n",
    "\n",
    "Given the increasing prevalence of lifestyle diseases, especially in South Asia, there's an urgent need to build **scalable, explainable, and user-friendly tools** to evaluate Indian meals and guide dietary decisions. Moreover, advances in machine learning (ML) and natural language processing (NLP) provide exciting opportunities to model food not only by numbers but by semantics—flavor, course, and preparation."
   ]
  },
  {
   "cell_type": "markdown",
   "metadata": {
    "id": "JQYTX-9Dn1Su"
   },
   "source": [
    "### 1.2 Research Objectives\n",
    "This project introduces an end-to-end framework that:\n",
    "\n",
    "**Predicts** calories based on food macros and inferred preparation methods using interpretable ML models.\n",
    "\n",
    "**Classifies** dishes semantically using BART-based zero-shot text classification (course and flavor).\n",
    "\n",
    "**Recommends** healthier food alternatives through fiber- and calorie-based filtering.\n",
    "\n",
    "**Deploys** a public-facing Streamlit application for interactive exploration."
   ]
  },
  {
   "cell_type": "markdown",
   "metadata": {
    "id": "tWzJa2ZCVzFh"
   },
   "source": [
    "### 1.3 Significance\n",
    "By translating cultural cuisine into interpretable numerical models and semantically enriched representations, **Eat Smart** contributes toward accessible healthcare tooling grounded in both **nutritional science and localized cuisine knowledge**."
   ]
  },
  {
   "cell_type": "markdown",
   "metadata": {
    "id": "7jLZ13XiVzFh"
   },
   "source": [
    "## 2. Dataset and Preprocessing"
   ]
  },
  {
   "cell_type": "markdown",
   "metadata": {
    "id": "EZk2XhawVzFh"
   },
   "source": [
    "### 2.1 Data Overview\n",
    "\n",
    "##### Indian Food Nutrition: https://www.kaggle.com/datasets/batthulavinay/indian-food-nutrition\n",
    "The dataset contains **1014** entries of Indian dishes with the following nutritional fields:\n",
    "- **Macronutrients:** carbohydrates, protein, fats, free sugar, fiber\n",
    "- **Micronutrients:** sodium, calcium, iron, vitamin C, folate\n",
    "- **Target Variable:** calories (kcal)\n",
    "- **Identifier:** dish name"
   ]
  },
  {
   "cell_type": "markdown",
   "metadata": {},
   "source": [
    "The code snippet below is designed to load and preprocess a dataset containing Indian food nutrition information from the CSV file. It begins by importing the necessary libraries, specifically pandas for data manipulation and warnings to suppress any FutureWarning messages that may arise during execution. The dataset is read into a DataFrame (df) and any rows with missing values are removed. The column names are then normalized by stripping whitespace, replacing spaces with underscores, and converting all characters to lowercase while also removing parentheses. The code identifies numeric columns by attempting to convert object-type columns to numeric values, retaining only those that successfully convert. Finally, it ensures that the identified numeric columns are properly formatted as numeric types and displays the first five rows of the cleaned DataFrame."
   ]
  },
  {
   "cell_type": "code",
   "execution_count": 1,
   "metadata": {
    "colab": {
     "base_uri": "https://localhost:8080/",
     "height": 223
    },
    "id": "Ax5HLKsiVzFh",
    "outputId": "6adf8615-cf15-40ba-bcd0-60b71c151953"
   },
   "outputs": [
    {
     "name": "stdout",
     "output_type": "stream",
     "text": [
      "First 5 rows:\n"
     ]
    },
    {
     "data": {
      "application/vnd.google.colaboratory.intrinsic+json": {
       "summary": "{\n  \"name\": \"display(df\",\n  \"rows\": 5,\n  \"fields\": [\n    {\n      \"column\": \"dish_name\",\n      \"properties\": {\n        \"dtype\": \"string\",\n        \"num_unique_values\": 5,\n        \"samples\": [\n          \"Instant coffee\",\n          \"Raw mango drink (Aam panna)\",\n          \"Espreso coffee\"\n        ],\n        \"semantic_type\": \"\",\n        \"description\": \"\"\n      }\n    },\n    {\n      \"column\": \"calories_kcal\",\n      \"properties\": {\n        \"dtype\": \"number\",\n        \"std\": 16.51617994573806,\n        \"min\": 10.34,\n        \"max\": 51.54,\n        \"num_unique_values\": 5,\n        \"samples\": [\n          23.16,\n          35.92,\n          51.54\n        ],\n        \"semantic_type\": \"\",\n        \"description\": \"\"\n      }\n    },\n    {\n      \"column\": \"carbohydrates_g\",\n      \"properties\": {\n        \"dtype\": \"number\",\n        \"std\": 2.8268268429459917,\n        \"min\": 2.58,\n        \"max\": 9.05,\n        \"num_unique_values\": 5,\n        \"samples\": [\n          3.65,\n          9.05,\n          6.62\n        ],\n        \"semantic_type\": \"\",\n        \"description\": \"\"\n      }\n    },\n    {\n      \"column\": \"protein_g\",\n      \"properties\": {\n        \"dtype\": \"number\",\n        \"std\": 0.6867532307896337,\n        \"min\": 0.03,\n        \"max\": 1.75,\n        \"num_unique_values\": 5,\n        \"samples\": [\n          0.64,\n          0.16,\n          1.75\n        ],\n        \"semantic_type\": \"\",\n        \"description\": \"\"\n      }\n    },\n    {\n      \"column\": \"fats_g\",\n      \"properties\": {\n        \"dtype\": \"number\",\n        \"std\": 0.8702987992637932,\n        \"min\": 0.01,\n        \"max\": 2.14,\n        \"num_unique_values\": 5,\n        \"samples\": [\n          0.75,\n          0.03,\n          2.14\n        ],\n        \"semantic_type\": \"\",\n        \"description\": \"\"\n      }\n    },\n    {\n      \"column\": \"free_sugar_g\",\n      \"properties\": {\n        \"dtype\": \"number\",\n        \"std\": 2.276319397624156,\n        \"min\": 2.58,\n        \"max\": 7.49,\n        \"num_unique_values\": 5,\n        \"samples\": [\n          3.62,\n          7.49,\n          6.53\n        ],\n        \"semantic_type\": \"\",\n        \"description\": \"\"\n      }\n    },\n    {\n      \"column\": \"fibre_g\",\n      \"properties\": {\n        \"dtype\": \"number\",\n        \"std\": 0.27280029325497435,\n        \"min\": 0.0,\n        \"max\": 0.61,\n        \"num_unique_values\": 2,\n        \"samples\": [\n          0.61,\n          0.0\n        ],\n        \"semantic_type\": \"\",\n        \"description\": \"\"\n      }\n    },\n    {\n      \"column\": \"sodium_mg\",\n      \"properties\": {\n        \"dtype\": \"number\",\n        \"std\": 33.60435061119318,\n        \"min\": 0.23,\n        \"max\": 79.82,\n        \"num_unique_values\": 5,\n        \"samples\": [\n          4.92,\n          79.82\n        ],\n        \"semantic_type\": \"\",\n        \"description\": \"\"\n      }\n    },\n    {\n      \"column\": \"calcium_mg\",\n      \"properties\": {\n        \"dtype\": \"number\",\n        \"std\": 22.398195909492355,\n        \"min\": 1.18,\n        \"max\": 58.1,\n        \"num_unique_values\": 5,\n        \"samples\": [\n          20.87,\n          7.08\n        ],\n        \"semantic_type\": \"\",\n        \"description\": \"\"\n      }\n    },\n    {\n      \"column\": \"iron_mg\",\n      \"properties\": {\n        \"dtype\": \"number\",\n        \"std\": 0.06340346993658942,\n        \"min\": 0.02,\n        \"max\": 0.15,\n        \"num_unique_values\": 4,\n        \"samples\": [\n          0.06,\n          0.14\n        ],\n        \"semantic_type\": \"\",\n        \"description\": \"\"\n      }\n    },\n    {\n      \"column\": \"vitamin_c_mg\",\n      \"properties\": {\n        \"dtype\": \"number\",\n        \"std\": 19.31548679169127,\n        \"min\": 0.5,\n        \"max\": 45.3,\n        \"num_unique_values\": 4,\n        \"samples\": [\n          1.51,\n          45.3\n        ],\n        \"semantic_type\": \"\",\n        \"description\": \"\"\n      }\n    },\n    {\n      \"column\": \"folate_\\u00b5g\",\n      \"properties\": {\n        \"dtype\": \"number\",\n        \"std\": 5.111171098681789,\n        \"min\": 1.28,\n        \"max\": 14.05,\n        \"num_unique_values\": 5,\n        \"samples\": [\n          5.6,\n          14.05\n        ],\n        \"semantic_type\": \"\",\n        \"description\": \"\"\n      }\n    }\n  ]\n}",
       "type": "dataframe"
      },
      "text/html": [
       "\n",
       "  <div id=\"df-7822d1db-61c0-406d-b648-946f61a05b80\" class=\"colab-df-container\">\n",
       "    <div>\n",
       "<style scoped>\n",
       "    .dataframe tbody tr th:only-of-type {\n",
       "        vertical-align: middle;\n",
       "    }\n",
       "\n",
       "    .dataframe tbody tr th {\n",
       "        vertical-align: top;\n",
       "    }\n",
       "\n",
       "    .dataframe thead th {\n",
       "        text-align: right;\n",
       "    }\n",
       "</style>\n",
       "<table border=\"1\" class=\"dataframe\">\n",
       "  <thead>\n",
       "    <tr style=\"text-align: right;\">\n",
       "      <th></th>\n",
       "      <th>dish_name</th>\n",
       "      <th>calories_kcal</th>\n",
       "      <th>carbohydrates_g</th>\n",
       "      <th>protein_g</th>\n",
       "      <th>fats_g</th>\n",
       "      <th>free_sugar_g</th>\n",
       "      <th>fibre_g</th>\n",
       "      <th>sodium_mg</th>\n",
       "      <th>calcium_mg</th>\n",
       "      <th>iron_mg</th>\n",
       "      <th>vitamin_c_mg</th>\n",
       "      <th>folate_µg</th>\n",
       "    </tr>\n",
       "  </thead>\n",
       "  <tbody>\n",
       "    <tr>\n",
       "      <th>0</th>\n",
       "      <td>Hot tea (Garam Chai)</td>\n",
       "      <td>16.14</td>\n",
       "      <td>2.58</td>\n",
       "      <td>0.39</td>\n",
       "      <td>0.53</td>\n",
       "      <td>2.58</td>\n",
       "      <td>0.00</td>\n",
       "      <td>3.12</td>\n",
       "      <td>14.20</td>\n",
       "      <td>0.02</td>\n",
       "      <td>0.50</td>\n",
       "      <td>1.80</td>\n",
       "    </tr>\n",
       "    <tr>\n",
       "      <th>1</th>\n",
       "      <td>Instant coffee</td>\n",
       "      <td>23.16</td>\n",
       "      <td>3.65</td>\n",
       "      <td>0.64</td>\n",
       "      <td>0.75</td>\n",
       "      <td>3.62</td>\n",
       "      <td>0.00</td>\n",
       "      <td>4.92</td>\n",
       "      <td>20.87</td>\n",
       "      <td>0.06</td>\n",
       "      <td>1.51</td>\n",
       "      <td>5.60</td>\n",
       "    </tr>\n",
       "    <tr>\n",
       "      <th>2</th>\n",
       "      <td>Espreso coffee</td>\n",
       "      <td>51.54</td>\n",
       "      <td>6.62</td>\n",
       "      <td>1.75</td>\n",
       "      <td>2.14</td>\n",
       "      <td>6.53</td>\n",
       "      <td>0.00</td>\n",
       "      <td>13.98</td>\n",
       "      <td>58.10</td>\n",
       "      <td>0.15</td>\n",
       "      <td>1.51</td>\n",
       "      <td>5.53</td>\n",
       "    </tr>\n",
       "    <tr>\n",
       "      <th>3</th>\n",
       "      <td>Iced tea</td>\n",
       "      <td>10.34</td>\n",
       "      <td>2.70</td>\n",
       "      <td>0.03</td>\n",
       "      <td>0.01</td>\n",
       "      <td>2.70</td>\n",
       "      <td>0.00</td>\n",
       "      <td>0.23</td>\n",
       "      <td>1.18</td>\n",
       "      <td>0.02</td>\n",
       "      <td>5.95</td>\n",
       "      <td>1.28</td>\n",
       "    </tr>\n",
       "    <tr>\n",
       "      <th>4</th>\n",
       "      <td>Raw mango drink (Aam panna)</td>\n",
       "      <td>35.92</td>\n",
       "      <td>9.05</td>\n",
       "      <td>0.16</td>\n",
       "      <td>0.03</td>\n",
       "      <td>7.49</td>\n",
       "      <td>0.61</td>\n",
       "      <td>79.82</td>\n",
       "      <td>7.08</td>\n",
       "      <td>0.14</td>\n",
       "      <td>45.30</td>\n",
       "      <td>14.05</td>\n",
       "    </tr>\n",
       "  </tbody>\n",
       "</table>\n",
       "</div>\n",
       "    <div class=\"colab-df-buttons\">\n",
       "\n",
       "  <div class=\"colab-df-container\">\n",
       "    <button class=\"colab-df-convert\" onclick=\"convertToInteractive('df-7822d1db-61c0-406d-b648-946f61a05b80')\"\n",
       "            title=\"Convert this dataframe to an interactive table.\"\n",
       "            style=\"display:none;\">\n",
       "\n",
       "  <svg xmlns=\"http://www.w3.org/2000/svg\" height=\"24px\" viewBox=\"0 -960 960 960\">\n",
       "    <path d=\"M120-120v-720h720v720H120Zm60-500h600v-160H180v160Zm220 220h160v-160H400v160Zm0 220h160v-160H400v160ZM180-400h160v-160H180v160Zm440 0h160v-160H620v160ZM180-180h160v-160H180v160Zm440 0h160v-160H620v160Z\"/>\n",
       "  </svg>\n",
       "    </button>\n",
       "\n",
       "  <style>\n",
       "    .colab-df-container {\n",
       "      display:flex;\n",
       "      gap: 12px;\n",
       "    }\n",
       "\n",
       "    .colab-df-convert {\n",
       "      background-color: #E8F0FE;\n",
       "      border: none;\n",
       "      border-radius: 50%;\n",
       "      cursor: pointer;\n",
       "      display: none;\n",
       "      fill: #1967D2;\n",
       "      height: 32px;\n",
       "      padding: 0 0 0 0;\n",
       "      width: 32px;\n",
       "    }\n",
       "\n",
       "    .colab-df-convert:hover {\n",
       "      background-color: #E2EBFA;\n",
       "      box-shadow: 0px 1px 2px rgba(60, 64, 67, 0.3), 0px 1px 3px 1px rgba(60, 64, 67, 0.15);\n",
       "      fill: #174EA6;\n",
       "    }\n",
       "\n",
       "    .colab-df-buttons div {\n",
       "      margin-bottom: 4px;\n",
       "    }\n",
       "\n",
       "    [theme=dark] .colab-df-convert {\n",
       "      background-color: #3B4455;\n",
       "      fill: #D2E3FC;\n",
       "    }\n",
       "\n",
       "    [theme=dark] .colab-df-convert:hover {\n",
       "      background-color: #434B5C;\n",
       "      box-shadow: 0px 1px 3px 1px rgba(0, 0, 0, 0.15);\n",
       "      filter: drop-shadow(0px 1px 2px rgba(0, 0, 0, 0.3));\n",
       "      fill: #FFFFFF;\n",
       "    }\n",
       "  </style>\n",
       "\n",
       "    <script>\n",
       "      const buttonEl =\n",
       "        document.querySelector('#df-7822d1db-61c0-406d-b648-946f61a05b80 button.colab-df-convert');\n",
       "      buttonEl.style.display =\n",
       "        google.colab.kernel.accessAllowed ? 'block' : 'none';\n",
       "\n",
       "      async function convertToInteractive(key) {\n",
       "        const element = document.querySelector('#df-7822d1db-61c0-406d-b648-946f61a05b80');\n",
       "        const dataTable =\n",
       "          await google.colab.kernel.invokeFunction('convertToInteractive',\n",
       "                                                    [key], {});\n",
       "        if (!dataTable) return;\n",
       "\n",
       "        const docLinkHtml = 'Like what you see? Visit the ' +\n",
       "          '<a target=\"_blank\" href=https://colab.research.google.com/notebooks/data_table.ipynb>data table notebook</a>'\n",
       "          + ' to learn more about interactive tables.';\n",
       "        element.innerHTML = '';\n",
       "        dataTable['output_type'] = 'display_data';\n",
       "        await google.colab.output.renderOutput(dataTable, element);\n",
       "        const docLink = document.createElement('div');\n",
       "        docLink.innerHTML = docLinkHtml;\n",
       "        element.appendChild(docLink);\n",
       "      }\n",
       "    </script>\n",
       "  </div>\n",
       "\n",
       "\n",
       "    <div id=\"df-482ce59e-04ca-4d15-84d7-a32262366b33\">\n",
       "      <button class=\"colab-df-quickchart\" onclick=\"quickchart('df-482ce59e-04ca-4d15-84d7-a32262366b33')\"\n",
       "                title=\"Suggest charts\"\n",
       "                style=\"display:none;\">\n",
       "\n",
       "<svg xmlns=\"http://www.w3.org/2000/svg\" height=\"24px\"viewBox=\"0 0 24 24\"\n",
       "     width=\"24px\">\n",
       "    <g>\n",
       "        <path d=\"M19 3H5c-1.1 0-2 .9-2 2v14c0 1.1.9 2 2 2h14c1.1 0 2-.9 2-2V5c0-1.1-.9-2-2-2zM9 17H7v-7h2v7zm4 0h-2V7h2v10zm4 0h-2v-4h2v4z\"/>\n",
       "    </g>\n",
       "</svg>\n",
       "      </button>\n",
       "\n",
       "<style>\n",
       "  .colab-df-quickchart {\n",
       "      --bg-color: #E8F0FE;\n",
       "      --fill-color: #1967D2;\n",
       "      --hover-bg-color: #E2EBFA;\n",
       "      --hover-fill-color: #174EA6;\n",
       "      --disabled-fill-color: #AAA;\n",
       "      --disabled-bg-color: #DDD;\n",
       "  }\n",
       "\n",
       "  [theme=dark] .colab-df-quickchart {\n",
       "      --bg-color: #3B4455;\n",
       "      --fill-color: #D2E3FC;\n",
       "      --hover-bg-color: #434B5C;\n",
       "      --hover-fill-color: #FFFFFF;\n",
       "      --disabled-bg-color: #3B4455;\n",
       "      --disabled-fill-color: #666;\n",
       "  }\n",
       "\n",
       "  .colab-df-quickchart {\n",
       "    background-color: var(--bg-color);\n",
       "    border: none;\n",
       "    border-radius: 50%;\n",
       "    cursor: pointer;\n",
       "    display: none;\n",
       "    fill: var(--fill-color);\n",
       "    height: 32px;\n",
       "    padding: 0;\n",
       "    width: 32px;\n",
       "  }\n",
       "\n",
       "  .colab-df-quickchart:hover {\n",
       "    background-color: var(--hover-bg-color);\n",
       "    box-shadow: 0 1px 2px rgba(60, 64, 67, 0.3), 0 1px 3px 1px rgba(60, 64, 67, 0.15);\n",
       "    fill: var(--button-hover-fill-color);\n",
       "  }\n",
       "\n",
       "  .colab-df-quickchart-complete:disabled,\n",
       "  .colab-df-quickchart-complete:disabled:hover {\n",
       "    background-color: var(--disabled-bg-color);\n",
       "    fill: var(--disabled-fill-color);\n",
       "    box-shadow: none;\n",
       "  }\n",
       "\n",
       "  .colab-df-spinner {\n",
       "    border: 2px solid var(--fill-color);\n",
       "    border-color: transparent;\n",
       "    border-bottom-color: var(--fill-color);\n",
       "    animation:\n",
       "      spin 1s steps(1) infinite;\n",
       "  }\n",
       "\n",
       "  @keyframes spin {\n",
       "    0% {\n",
       "      border-color: transparent;\n",
       "      border-bottom-color: var(--fill-color);\n",
       "      border-left-color: var(--fill-color);\n",
       "    }\n",
       "    20% {\n",
       "      border-color: transparent;\n",
       "      border-left-color: var(--fill-color);\n",
       "      border-top-color: var(--fill-color);\n",
       "    }\n",
       "    30% {\n",
       "      border-color: transparent;\n",
       "      border-left-color: var(--fill-color);\n",
       "      border-top-color: var(--fill-color);\n",
       "      border-right-color: var(--fill-color);\n",
       "    }\n",
       "    40% {\n",
       "      border-color: transparent;\n",
       "      border-right-color: var(--fill-color);\n",
       "      border-top-color: var(--fill-color);\n",
       "    }\n",
       "    60% {\n",
       "      border-color: transparent;\n",
       "      border-right-color: var(--fill-color);\n",
       "    }\n",
       "    80% {\n",
       "      border-color: transparent;\n",
       "      border-right-color: var(--fill-color);\n",
       "      border-bottom-color: var(--fill-color);\n",
       "    }\n",
       "    90% {\n",
       "      border-color: transparent;\n",
       "      border-bottom-color: var(--fill-color);\n",
       "    }\n",
       "  }\n",
       "</style>\n",
       "\n",
       "      <script>\n",
       "        async function quickchart(key) {\n",
       "          const quickchartButtonEl =\n",
       "            document.querySelector('#' + key + ' button');\n",
       "          quickchartButtonEl.disabled = true;  // To prevent multiple clicks.\n",
       "          quickchartButtonEl.classList.add('colab-df-spinner');\n",
       "          try {\n",
       "            const charts = await google.colab.kernel.invokeFunction(\n",
       "                'suggestCharts', [key], {});\n",
       "          } catch (error) {\n",
       "            console.error('Error during call to suggestCharts:', error);\n",
       "          }\n",
       "          quickchartButtonEl.classList.remove('colab-df-spinner');\n",
       "          quickchartButtonEl.classList.add('colab-df-quickchart-complete');\n",
       "        }\n",
       "        (() => {\n",
       "          let quickchartButtonEl =\n",
       "            document.querySelector('#df-482ce59e-04ca-4d15-84d7-a32262366b33 button');\n",
       "          quickchartButtonEl.style.display =\n",
       "            google.colab.kernel.accessAllowed ? 'block' : 'none';\n",
       "        })();\n",
       "      </script>\n",
       "    </div>\n",
       "\n",
       "    </div>\n",
       "  </div>\n"
      ],
      "text/plain": [
       "                     dish_name  calories_kcal  carbohydrates_g  protein_g  \\\n",
       "0         Hot tea (Garam Chai)          16.14             2.58       0.39   \n",
       "1               Instant coffee          23.16             3.65       0.64   \n",
       "2               Espreso coffee          51.54             6.62       1.75   \n",
       "3                     Iced tea          10.34             2.70       0.03   \n",
       "4  Raw mango drink (Aam panna)          35.92             9.05       0.16   \n",
       "\n",
       "   fats_g  free_sugar_g  fibre_g  sodium_mg  calcium_mg  iron_mg  \\\n",
       "0    0.53          2.58     0.00       3.12       14.20     0.02   \n",
       "1    0.75          3.62     0.00       4.92       20.87     0.06   \n",
       "2    2.14          6.53     0.00      13.98       58.10     0.15   \n",
       "3    0.01          2.70     0.00       0.23        1.18     0.02   \n",
       "4    0.03          7.49     0.61      79.82        7.08     0.14   \n",
       "\n",
       "   vitamin_c_mg  folate_µg  \n",
       "0          0.50       1.80  \n",
       "1          1.51       5.60  \n",
       "2          1.51       5.53  \n",
       "3          5.95       1.28  \n",
       "4         45.30      14.05  "
      ]
     },
     "metadata": {},
     "output_type": "display_data"
    }
   ],
   "source": [
    "import pandas as pd\n",
    "import warnings\n",
    "\n",
    "# Suppress FutureWarnings\n",
    "warnings.simplefilter(action='ignore', category=FutureWarning)\n",
    "\n",
    "# Load and process the dataset\n",
    "df = pd.read_csv(\"Indian_Food_Nutrition_Processed.csv\")\n",
    "df = df.dropna()\n",
    "\n",
    "# Normalize column names\n",
    "df.columns = (\n",
    "    df.columns.str.strip()\n",
    "              .str.replace(\" \", \"_\")\n",
    "              .str.replace(\"(\", \"\", regex=False)\n",
    "              .str.replace(\")\", \"\", regex=False)\n",
    "              .str.lower()\n",
    ")\n",
    "\n",
    "# Identify numeric columns\n",
    "numeric_cols = df.select_dtypes(include=['object']).apply(pd.to_numeric, errors='coerce').notnull().any()\n",
    "numeric_cols = numeric_cols[numeric_cols].index.tolist()\n",
    "\n",
    "# Ensure proper numeric formatting only for numeric columns\n",
    "df[numeric_cols] = df[numeric_cols].apply(pd.to_numeric)\n",
    "\n",
    "# Examine the dataset\n",
    "print(\"First 5 rows:\")\n",
    "display(df.head())"
   ]
  },
  {
   "cell_type": "markdown",
   "metadata": {
    "id": "XA9AURpxVzFi"
   },
   "source": [
    "Initial checks revealed about 8% of rows had missing values in vitamin_c and folate. These were removed to avoid bias in downstream ML tasks. Column names were cleaned for consistency and ease of manipulation. Converting text-based numerical columns ensures analytical readiness, particularly for operations like correlation analysis or model input."
   ]
  },
  {
   "cell_type": "markdown",
   "metadata": {
    "id": "YjWhStB-VzFi"
   },
   "source": [
    "## 3. Feature Engineering and Simulation"
   ]
  },
  {
   "cell_type": "markdown",
   "metadata": {
    "id": "zotgggJ0VzFi"
   },
   "source": [
    "### 3.1 Heuristic Inference of Time Attributes\n",
    "Since structured cooking metadata is often unavailable in Indian food datasets, we approximated values based on keyword heuristics in dish names.\n",
    "\n",
    "The code snippet below adds two new columns, cook_time and prep_time, to the DataFrame df based on the values in the dish_name column. For the cook_time column, a lambda function is applied that assigns a cooking time of 10 minutes if the dish name contains the word \"tea\" (case insensitive), 30 minutes if it contains \"curry,\" and 20 minutes otherwise. Similarly, for the prep_time column, another lambda function is used to assign a preparation time of 5 minutes for dish names containing \"salad,\" 15 minutes for those with \"paratha,\" and 10 minutes for all other dishes. This approach allows for dynamic assignment of cooking and preparation times based on specific keywords in the dish names."
   ]
  },
  {
   "cell_type": "code",
   "execution_count": 2,
   "metadata": {
    "id": "7Edw3bBmVzFi"
   },
   "outputs": [],
   "source": [
    "df['cook_time'] = df['dish_name'].apply(\n",
    "    lambda x: 10 if 'tea' in x.lower() else 30 if 'curry' in x.lower() else 20)\n",
    "\n",
    "df['prep_time'] = df['dish_name'].apply(\n",
    "    lambda x: 5 if 'salad' in x.lower() else 15 if 'paratha' in x.lower() else 10)"
   ]
  },
  {
   "cell_type": "markdown",
   "metadata": {
    "id": "Y7NU058wVzFi"
   },
   "source": [
    "### 3.2 Cooking Style and Nutritional Densities"
   ]
  },
  {
   "cell_type": "markdown",
   "metadata": {},
   "source": [
    "This code snippet enhances the DataFrame `df` by adding three new columns: `is_fried`, `total_macros`, and `energy_density`. The `is_fried` column is created by checking if the `dish_name` contains any of the keywords \"fried,\" \"pakora,\" \"bonda,\" \"vada,\" or \"poori\" (case insensitive), resulting in a binary indicator (1 for true, 0 for false) that is converted to an integer type. The `total_macros` column sums the values of carbohydrates, protein, and fats (in grams) for each dish to provide a total macronutrient count. Finally, the `energy_density` column calculates the energy density of each dish by dividing the total calories (in kilocalories) by the total macronutrients, adding a small constant (1e-5) to the denominator to prevent division by zero. This allows for a more accurate representation of the energy content relative to the macronutrient composition of the dishes."
   ]
  },
  {
   "cell_type": "code",
   "execution_count": 3,
   "metadata": {
    "id": "f5JCjX4oVzFj"
   },
   "outputs": [],
   "source": [
    "df['is_fried'] = df['dish_name'].str.contains('fried|pakora|bonda|vada|poori', case=False).astype(int)\n",
    "df['total_macros'] = df['carbohydrates_g'] + df['protein_g'] + df['fats_g']\n",
    "df['energy_density'] = df['calories_kcal'] / (df['total_macros'] + 1e-5)"
   ]
  },
  {
   "cell_type": "markdown",
   "metadata": {
    "id": "B6nn5cgyVzFj"
   },
   "source": [
    "### Interpretation\n",
    "**is_fried:** approximates caloric inflation from oil-based methods.\n",
    "\n",
    "**total_macros:** fundamental to calorie formation.\n",
    "\n",
    "**energy_density:** reveals dishes that are calorically dense, aiding risk assessment.\n",
    "\n",
    "These features enhance both prediction and user-facing health analysis."
   ]
  },
  {
   "cell_type": "markdown",
   "metadata": {
    "id": "VLXkSaYZVzFj"
   },
   "source": [
    "## 4. NLP-Driven Semantic Tagging"
   ]
  },
  {
   "cell_type": "markdown",
   "metadata": {
    "id": "oh2F-Ks2VzFj"
   },
   "source": [
    "### 4.1 Zero-Shot Classification Using BART\n",
    "We utilized Hugging Face’s <mark>**facebook/bart-large-mnli**</mark> transformer for **zero-shot classification**, labeling dishes based solely on name.\n",
    "\n",
    "The code snippet below employs the Hugging Face Transformers library to perform zero-shot classification on dish names in the DataFrame `df` using the pre-trained model `facebook/bart-large-mnli`. It first initializes a classification pipeline for zero-shot tasks, which allows the model to categorize text into predefined labels without needing additional training. Two sets of labels are defined: `course_labels` for categorizing dishes into types such as \"main course,\" \"dessert,\" \"snack,\" \"beverage,\" and \"starter,\" and `flavor_labels` for identifying flavors like \"sweet,\" \"spicy,\" \"savory,\" and \"tangy.\" The code then applies the classifier to each dish name in the `dish_name` column, assigning the most likely course and flavor labels to new columns, `course_nlp` and `flavor_nlp`, respectively. This approach enables the automatic labeling of dishes based solely on their names, leveraging the model's ability to understand context and semantics."
   ]
  },
  {
   "cell_type": "code",
   "execution_count": 4,
   "metadata": {
    "colab": {
     "base_uri": "https://localhost:8080/",
     "height": 368,
     "referenced_widgets": [
      "6dc1955633e54a7aac5fd45cd107786a",
      "ccdd193f473a4fd7ba7cb53a65c9bfc9",
      "e2dcb7fa3e364fb1bb3dd49942056f99",
      "d2aa98ec42ee490d96eac903a4073f8e",
      "e95800c744184b63b229ff8239a8ec65",
      "2965063e00314d7785158421066610f3",
      "dc2f8a83943f44aaae300ddfbad8237d",
      "31c88daebb864c54bbdcc90a5ea6b3df",
      "d142b71e8e514be6b7e1359557347aa9",
      "d2ca4a77a8614ab48911d658fcb3f244",
      "e3dac4107abf439c97558d382f0c0a48",
      "725b0442b0d74bfdad48728521903fb4",
      "5936b339c8bc4d35a81acea394a829f1",
      "14bb5200d15443ca937c1e5997308472",
      "365f336bc78b4752955840d6625a8dd8",
      "a90c74cadbb74f599296aa5704d3ca15",
      "d09f60da155a44549d7ddddc7db10335",
      "b8e64b27e5e3438ca1f4dab072b88c37",
      "d6c6ad1dda0b4649959712713a7b722a",
      "b64899ef064d43d8b25d6d9e5a1fcdb4",
      "5f6a61b054f24bc3a3b9bccf160729b1",
      "310fb6655ac0424f9564b80769ffc166",
      "8bd106fd93284dc3941633b5e0a1fe77",
      "ed0b400ff7254f1e88a7597bdd64dc55",
      "4bc090feb0804644a848f387015c2d29",
      "0f44b0643a1445c3a974f68ab0bf8b58",
      "7c670a7488474d1390c6fbbc54f2cea2",
      "f186875b62bb4109bf5e82daa8f327eb",
      "89a285fb0d7847acbf903a6dfc1fde09",
      "0785c7cd9c4c49f98f166fc7d30c50b1",
      "cacf8b731d7b4e968e83d42f2ba53181",
      "edafd0580a704da7b207a8b31c5ed309",
      "8f067b1323d54cdb84b16b7cbb92cae0",
      "24a37f94447e4c8ca9b3136d8c7ae35e",
      "d4f07d8476f04fdbbaceb1fd4e0e0d62",
      "d0bc7614db154afea6d91da725fb0c7f",
      "059c5333aee4417ebcb66fa54b2a22d2",
      "22818b9c8ec8461fa8aac4bafe616772",
      "4d6569fcf45246ffb437357c6bf5b79e",
      "8897c01fc1c44a4db85877dd4d0b37af",
      "da7e9c09228745228d42f3446d719b0e",
      "086997c741e24e1fbce80ec60761b9a6",
      "adcd62c86e6d46a1b8b1b18266f42330",
      "9edf64eef23d4c9ba61fa9354ea898d2",
      "e801ff8e583443039c5aef034fde1dd6",
      "de298bd8c21f4b6285fea36f5fc421dd",
      "13a19a69e1de437ebde4a85097125afc",
      "0a7190eddbf04ee8a051b1379e12be5f",
      "c2edc7bb62e74931a897c29fec15a472",
      "a068c69794f347dcb2d5ed1e06be5573",
      "b0ddf72796934843a038e8f0e03577dd",
      "321e1db5f2e043f58a85761aa17cde25",
      "057dc9ed29494c1d81fbaf05de58fb72",
      "f7813264976046bb825deed5719f9ca6",
      "efe91dadce6246f58db27373ad6f5d40",
      "1d6059cdd66a4537aef4780301f570d0",
      "f380aaae551f4aa0863ebcd985ddabd3",
      "f9abd28e424444b3a3b7ddf278c24f21",
      "3e0eb125bccc46acbe5f028b0d030f15",
      "602cf72d35e44d93a2af877a15b254e0",
      "421cd65e1be743768871883f567d493a",
      "a9a669587e6143838065a8a8baa6a953",
      "6dde683028d3478381b380fe64bdc3cf",
      "e7fd9b9e5b6d43d3b6700d47936dcb6d",
      "4d89c80cec7c487591e541e7f0058d4c",
      "1716cdb24449457683c60136a56c9307"
     ]
    },
    "id": "rNR1v8YhVzFj",
    "outputId": "3d395fbc-6c42-47b9-e82e-defc913ec418"
   },
   "outputs": [
    {
     "name": "stderr",
     "output_type": "stream",
     "text": [
      "/usr/local/lib/python3.11/dist-packages/huggingface_hub/utils/_auth.py:94: UserWarning: \n",
      "The secret `HF_TOKEN` does not exist in your Colab secrets.\n",
      "To authenticate with the Hugging Face Hub, create a token in your settings tab (https://huggingface.co/settings/tokens), set it as secret in your Google Colab and restart your session.\n",
      "You will be able to reuse this secret in all of your notebooks.\n",
      "Please note that authentication is recommended but still optional to access public models or datasets.\n",
      "  warnings.warn(\n"
     ]
    },
    {
     "data": {
      "application/vnd.jupyter.widget-view+json": {
       "model_id": "6dc1955633e54a7aac5fd45cd107786a",
       "version_major": 2,
       "version_minor": 0
      },
      "text/plain": [
       "config.json:   0%|          | 0.00/1.15k [00:00<?, ?B/s]"
      ]
     },
     "metadata": {},
     "output_type": "display_data"
    },
    {
     "data": {
      "application/vnd.jupyter.widget-view+json": {
       "model_id": "725b0442b0d74bfdad48728521903fb4",
       "version_major": 2,
       "version_minor": 0
      },
      "text/plain": [
       "model.safetensors:   0%|          | 0.00/1.63G [00:00<?, ?B/s]"
      ]
     },
     "metadata": {},
     "output_type": "display_data"
    },
    {
     "data": {
      "application/vnd.jupyter.widget-view+json": {
       "model_id": "8bd106fd93284dc3941633b5e0a1fe77",
       "version_major": 2,
       "version_minor": 0
      },
      "text/plain": [
       "tokenizer_config.json:   0%|          | 0.00/26.0 [00:00<?, ?B/s]"
      ]
     },
     "metadata": {},
     "output_type": "display_data"
    },
    {
     "data": {
      "application/vnd.jupyter.widget-view+json": {
       "model_id": "24a37f94447e4c8ca9b3136d8c7ae35e",
       "version_major": 2,
       "version_minor": 0
      },
      "text/plain": [
       "vocab.json:   0%|          | 0.00/899k [00:00<?, ?B/s]"
      ]
     },
     "metadata": {},
     "output_type": "display_data"
    },
    {
     "data": {
      "application/vnd.jupyter.widget-view+json": {
       "model_id": "e801ff8e583443039c5aef034fde1dd6",
       "version_major": 2,
       "version_minor": 0
      },
      "text/plain": [
       "merges.txt:   0%|          | 0.00/456k [00:00<?, ?B/s]"
      ]
     },
     "metadata": {},
     "output_type": "display_data"
    },
    {
     "data": {
      "application/vnd.jupyter.widget-view+json": {
       "model_id": "1d6059cdd66a4537aef4780301f570d0",
       "version_major": 2,
       "version_minor": 0
      },
      "text/plain": [
       "tokenizer.json:   0%|          | 0.00/1.36M [00:00<?, ?B/s]"
      ]
     },
     "metadata": {},
     "output_type": "display_data"
    },
    {
     "name": "stderr",
     "output_type": "stream",
     "text": [
      "Device set to use cuda:0\n",
      "You seem to be using the pipelines sequentially on GPU. In order to maximize efficiency please use a dataset\n"
     ]
    }
   ],
   "source": [
    "from transformers import pipeline\n",
    "\n",
    "classifier = pipeline(\"zero-shot-classification\", model=\"facebook/bart-large-mnli\")\n",
    "\n",
    "course_labels = ['main course', 'dessert', 'snack', 'beverage', 'starter']\n",
    "flavor_labels = ['sweet', 'spicy', 'savory', 'tangy']\n",
    "\n",
    "df['course_nlp'] = df['dish_name'].apply(lambda x: classifier(x, course_labels)['labels'][0])\n",
    "df['flavor_nlp'] = df['dish_name'].apply(lambda x: classifier(x, flavor_labels)['labels'][0])"
   ]
  },
  {
   "cell_type": "markdown",
   "metadata": {
    "id": "ELIJsRIMVzFj"
   },
   "source": [
    "Traditional taxonomies don’t exist for Indian food. Using **semantic similarity**, zero-shot learning enables classification with minimal data labeling. This adds interpretive richness and allows downstream recommendation and filtering. The zero-shot approach is highly scalable and resilient to linguistic variance. It allows the system to handle new dishes without retraining. Although some ambiguity remains due to regional naming or compound dishes, overall classification reflects common culinary understandings with strong transfer learning fidelity."
   ]
  },
  {
   "cell_type": "markdown",
   "metadata": {
    "id": "Y6P4r8IQVzFj"
   },
   "source": [
    "## 5. Exploratory Data Analysis"
   ]
  },
  {
   "cell_type": "markdown",
   "metadata": {
    "id": "0RIKJbd9VzFj"
   },
   "source": [
    "### 5.1 Distribution Visualizations\n",
    "The code snippet below utilizes the Seaborn and Matplotlib libraries to visualize various aspects of the DataFrame `df`. It first creates a histogram of the `cook_time` column, displaying the distribution of cooking times with 20 bins and a kernel density estimate (KDE) overlay, and titles the plot \"Simulated Cooking Time Distribution.\" The same process is repeated for the `prep_time` column, but with a purple color scheme, titled \"Simulated Preparation Time Distribution.\" Next, the code generates a count plot to visualize the distribution of inferred course types (from the `course_nlp` column) and another count plot for the inferred flavor profiles (from the `flavor_nlp` column), each with appropriate titles. The use of these visualizations helps to provide insights into the cooking and preparation times, as well as the distribution of dish categories and flavors within the dataset."
   ]
  },
  {
   "cell_type": "code",
   "execution_count": 5,
   "metadata": {
    "colab": {
     "base_uri": "https://localhost:8080/",
     "height": 1000
    },
    "id": "tSmIznrqVzFj",
    "outputId": "41f0077e-de03-463f-ea1d-ba615334f00f"
   },
   "outputs": [
    {
     "data": {
      "image/png": "[encoded data removed]",
      "text/plain": [
       "<Figure size 640x480 with 1 Axes>"
      ]
     },
     "metadata": {},
     "output_type": "display_data"
    },
    {
     "data": {
      "image/png": "[encoded data removed]",
      "text/plain": [
       "<Figure size 640x480 with 1 Axes>"
      ]
     },
     "metadata": {},
     "output_type": "display_data"
    },
    {
     "data": {
      "image/png": "[encoded data removed]",
      "text/plain": [
       "<Figure size 640x480 with 1 Axes>"
      ]
     },
     "metadata": {},
     "output_type": "display_data"
    },
    {
     "data": {
      "image/png": "[encoded data removed]",
      "text/plain": [
       "<Figure size 640x480 with 1 Axes>"
      ]
     },
     "metadata": {},
     "output_type": "display_data"
    }
   ],
   "source": [
    "import seaborn as sns\n",
    "import matplotlib.pyplot as plt\n",
    "\n",
    "sns.histplot(df['cook_time'], bins=20, kde=True)\n",
    "plt.title(\"Simulated Cooking Time Distribution\")\n",
    "plt.show()\n",
    "\n",
    "sns.histplot(df['prep_time'], bins=20, kde=True, color='purple')\n",
    "plt.title(\"Simulated Preparation Time Distribution\")\n",
    "plt.show()\n",
    "\n",
    "sns.countplot(x='course_nlp', data=df)\n",
    "plt.title(\"Inferred Course Distribution\")\n",
    "plt.show()\n",
    "\n",
    "sns.countplot(x='flavor_nlp', data=df)\n",
    "plt.title(\"Inferred Flavor Profile\")\n",
    "plt.show()"
   ]
  },
  {
   "cell_type": "markdown",
   "metadata": {
    "id": "uVEy9RR1VzFj"
   },
   "source": [
    "### Observations\n",
    "The visualizations provide a detailed overview of cooking and preparation times, as well as the distribution of dish types and flavors within the dataset. The **Simulated Cooking Time Distribution** graph reveals that most dishes have a cooking time concentrated around a specific range, with a noticeable peak indicating that many dishes require approximately 20 to 30 minutes to cook. The accompanying **Simulated Preparation Time Distribution** graph shows a similar trend, with a significant number of dishes requiring around 10 to 15 minutes for preparation, suggesting that most dishes are relatively quick to prepare.\n",
    "\n",
    "In terms of dish categorization, the **Inferred Course Distribution** count plot indicates that the majority of dishes fall into the \"main course\" category, followed by a substantial number of \"snack\" and \"dessert\" items, reflecting a diverse menu. The **Inferred Flavor Profile** count plot highlights that \"savory\" and \"spicy\" flavors are the most prevalent among the dishes, indicating a strong inclination towards these taste profiles in the dataset. Together, these results provide valuable insights into cooking practices and flavor preferences, which can inform culinary decisions and menu development.\n",
    "\n",
    "**Prep/Cook Time:** Most dishes cluster around short cook/prep intervals due to heuristic design.\n",
    "\n",
    "**Course Types:** Beverages, snacks, and starters are dominant, reflecting snack-heavy Indian food culture.\n",
    "\n",
    "**Flavors:** Spicy dominates—unsurprisingly for Indian cuisine.\n",
    "\n",
    "These visualizations offer intuitive feedback about how Indian dishes are distributed by flavor, purpose, and preparation effort.\n",
    "\n",
    "### Quick Findings\n",
    "- Most dishes fall into quick prep/cook bins (15–30 mins), likely due to naming bias.\n",
    "- Courses lean toward snacks and beverages, reflecting the culture of small plates and chaats.\n",
    "- Flavors skew heavily toward “spicy,” with tangy and sweet trailing."
   ]
  },
  {
   "cell_type": "markdown",
   "metadata": {
    "id": "Kphb5KdcVzFj"
   },
   "source": [
    "## 6. Model Training and Evaluation (Calorie Prediction Model)"
   ]
  },
  {
   "cell_type": "markdown",
   "metadata": {
    "id": "VcR9I0LOVzFj"
   },
   "source": [
    "### 6.1 Correlation Matrix\n",
    "This code snippet generates a heatmap using Seaborn to visualize the correlation matrix of selected features from the DataFrame `df`, specifically focusing on `calories_kcal`, `carbohydrates_g`, `protein_g`, `fats_g`, and `is_fried`. The `corr()` method computes the pairwise correlation coefficients between these features, which are then displayed in the heatmap with annotations indicating the correlation values. The heatmap provides a color-coded representation of the strength and direction of relationships between the features, allowing for quick identification of strong correlations, such as between macronutrients (carbohydrates, protein, and fats) and their relationship with calorie content. The title \"Feature Correlation Heatmap\" succinctly describes the purpose of the visualization, which is to help understand how these nutritional features are interrelated within the dataset."
   ]
  },
  {
   "cell_type": "code",
   "execution_count": 6,
   "metadata": {
    "colab": {
     "base_uri": "https://localhost:8080/",
     "height": 555
    },
    "id": "kci3j_fwVzFj",
    "outputId": "244834b2-ddb4-4107-af47-1ff0bec74d0f"
   },
   "outputs": [
    {
     "data": {
      "image/png": "[encoded data removed]",
      "text/plain": [
       "<Figure size 640x480 with 2 Axes>"
      ]
     },
     "metadata": {},
     "output_type": "display_data"
    }
   ],
   "source": [
    "sns.heatmap(df[['calories_kcal', 'carbohydrates_g', 'protein_g', 'fats_g', 'is_fried']].corr(), annot=True)\n",
    "plt.title(\"Feature Correlation Heatmap\")\n",
    "plt.show()"
   ]
  },
  {
   "cell_type": "markdown",
   "metadata": {
    "id": "wEV7FFcLVzFj"
   },
   "source": [
    "### Interpretation of Correlation Heatmap\n",
    "<mark>**fats_g**</mark> and <mark>**is_fried**</mark> have strong positive correlation with calories, supporting their inclusion as key predictors.\n",
    "\n",
    "Here’s an interpretation of the correlation map results presented in the heatmap:\n",
    "\n",
    "### **Overview of Variables**\n",
    "The heatmap shows the correlation between several dietary features:\n",
    "\n",
    "- **calories_kcal**: Total caloric content\n",
    "- **carbohydrates_g**: Amount of carbohydrates\n",
    "- **protein_g**: Amount of protein\n",
    "- **fats_g**: Amount of fats\n",
    "- **is_fried**: Indicates whether the food is fried (binary variable)\n",
    "\n",
    "### **Key Correlation Insights**\n",
    "\n",
    "1. **Fats vs. Calories**\n",
    "   - Correlation coefficient: **0.93**\n",
    "   - **Interpretation**: There is a very strong positive correlation, indicating that as fat content increases, the caloric content also tends to increase significantly. Fried foods, often higher in fats, correspond to higher calorie counts.\n",
    "\n",
    "2. **Is Fried vs. Fats**\n",
    "   - Correlation coefficient: **0.49**\n",
    "   - **Interpretation**: Moderate positive correlation suggests that fried foods may usually contain higher fat content, although it's not a very strong relationship.\n",
    "\n",
    "3. **Is Fried vs. Calories**\n",
    "   - Correlation coefficient: **0.43**\n",
    "   - **Interpretation**: Indicates a moderate positive correlation, implying that fried items tend to have higher calorie counts but not as strongly as with fats.\n",
    "\n",
    "4. **Carbohydrates vs. Other Nutritional Components**\n",
    "   - With fats: **-0.12** (weak negative correlation)\n",
    "   - With protein: **0.18** (weak positive correlation)\n",
    "   - With is_fried: **-0.13** (weak negative correlation)\n",
    "   - **Interpretation**: These weak correlations suggest that the amount of carbohydrates in a food item does not have a significant relationship with fat content, protein content, or whether the food is fried.\n",
    "\n",
    "5. **Protein Correlations**\n",
    "   - With fats: **-0.15** (weak negative correlation)\n",
    "   - With carbohydrates: **0.18** (weak positive correlation)\n",
    "   - **Interpretation**: The weak correlations indicate that the protein content in food items is not strongly associated with either fat or carbohydrate content.\n",
    "\n",
    "### **Conclusion**\n",
    "- **Strong Relationship**: The relationship between fats and calories is the most pronounced, emphasizing the role of fat in determining the caloric content of foods.\n",
    "- **Moderate Relationships**: The correlations involving fried foods and caloric content are noticeable but are not as strong.\n",
    "- **Weak Relationships**: Other components (carbohydrates and protein) exhibit weak correlations with the main variables, indicating that these may not be as significant in predicting calorie content or the likelihood of being fried.\n",
    "\n",
    "This analysis suggests that when considering food items, particularly fried foods, higher fat content is a significant predictor of caloric levels. In contrast, carbohydrates and proteins do not show strong associations with these key dietary metrics."
   ]
  },
  {
   "cell_type": "markdown",
   "metadata": {
    "id": "5_DRgWXIVzFj"
   },
   "source": [
    "### 6.2 Predictive Modeling: Random Forest Regressor with Hyperparameter Tuning\n",
    "The code snippet below demonstrates a process to predict calorie content in food items using a Random Forest Regressor in Python's scikit-learn library. It begins by importing necessary libraries for model training and evaluation, and it defines relevant features and target variables from a DataFrame. The dataset is split into training and testing sets, with 20% reserved for testing. A grid search is performed to optimize hyperparameters such as the number of trees and maximum depth of the model, after which the best estimator is saved to a file. Predictions are made on the test set, and the model's performance is evaluated using R² score and Root Mean Squared Error (RMSE)."
   ]
  },
  {
   "cell_type": "code",
   "execution_count": 7,
   "metadata": {
    "colab": {
     "base_uri": "https://localhost:8080/"
    },
    "id": "8VL32YKIVzFj",
    "outputId": "f2c9a3f7-9fc8-42c4-845f-abb4acf4fb11"
   },
   "outputs": [
    {
     "name": "stdout",
     "output_type": "stream",
     "text": [
      "R2: 0.9820963077157104\n",
      "RMSE: 25.27317410650578\n"
     ]
    }
   ],
   "source": [
    "from sklearn.model_selection import train_test_split, GridSearchCV\n",
    "from sklearn.ensemble import RandomForestRegressor\n",
    "from sklearn.metrics import r2_score, mean_squared_error\n",
    "import joblib\n",
    "import numpy as np\n",
    "\n",
    "features = ['carbohydrates_g', 'protein_g', 'fats_g', 'is_fried']\n",
    "target = 'calories_kcal'\n",
    "\n",
    "X = df[features]\n",
    "y = df[target]\n",
    "\n",
    "X_train, X_test, y_train, y_test = train_test_split(X, y, test_size=0.2, random_state=42)\n",
    "\n",
    "param_grid = {'n_estimators': [100, 200], 'max_depth': [5, 10, None]}\n",
    "model = GridSearchCV(RandomForestRegressor(), param_grid, cv=5)\n",
    "model.fit(X_train, y_train)\n",
    "\n",
    "joblib.dump(model.best_estimator_, 'calorie_predictor.pkl')\n",
    "\n",
    "y_pred = model.predict(X_test)\n",
    "print(\"R2:\", r2_score(y_test, y_pred))\n",
    "print(\"RMSE:\", np.sqrt(mean_squared_error(y_test, y_pred)))"
   ]
  },
  {
   "cell_type": "markdown",
   "metadata": {
    "id": "PC5VMloqVzFj"
   },
   "source": [
    "**Results Overview**\n",
    "- **R² Score**: 0.9817\n",
    "- **RMSE**: 25.52 kcal\n",
    "\n",
    "**Key Metrics Explained**\n",
    "- **R² Score (Coefficient of Determination)**:\n",
    "  - **Value**: 0.9817\n",
    "  - **Interpretation**: This score indicates that approximately 98.17% of the variance in the dependent variable (calories_kcal) can be explained by the independent variables in the model. A value close to 1 suggests a very good fit.\n",
    "\n",
    "- **RMSE (Root Mean Square Error)**:\n",
    "  - **Value**: 25.52 kcal\n",
    "  - **Interpretation**: This metric measures the average magnitude of the errors between predicted and observed values. In this case, the model's predictions deviate, on average, by about 25.52 kcal.\n",
    "\n",
    "**Correlation Heatmap Insights**\n",
    "- **Feature Correlations**:\n",
    "  - **Calories_kcal and Fats_g**: Strong positive correlation (0.93), indicating that higher fat content is associated with higher calorie counts.\n",
    "  - **Calories_kcal and Is_fried**: Moderate positive correlation (0.43), suggesting fried items tend to have higher calorie counts.\n",
    "  - **Carbohydrates_g with Other Features**: Slight correlations, with values below 0.3, indicating minimal influence on calorie count.\n",
    "  - **Negative Correlations**: Protein_g and Fats_g show a weak negative correlation (-0.15), meaning there is a slight tendency for increasing protein to be associated with decreasing fat content, although it’s not significant.\n",
    "\n",
    "**Conclusion**\n",
    "The model demonstrates a strong ability to predict calorie content based on its features, particularly fat and frying methods. The low RMSE indicates that predictions are accurate in practical terms. The correlation matrix helps identify relationships, guiding further analysis or feature selection for improving the model if necessary."
   ]
  },
  {
   "cell_type": "markdown",
   "metadata": {
    "id": "mIPLMKSpVzFj"
   },
   "source": [
    "## 7. Healthy Dish Recommendation System"
   ]
  },
  {
   "cell_type": "markdown",
   "metadata": {
    "id": "FkGSRyu7VzFj"
   },
   "source": [
    "A basic rule-based recommender using calories and fiber; filtering for dishes that are low-calorie (<150 kcal) and high in fiber (>3g).\n",
    "\n",
    "The provided code snippet below retrieves a DataFrame named `df` to filter and sort dishes based on their health metrics. It selects the columns `dish_name`, `calories_kcal`, and `fibre_g`, then applies a query to identify dishes that have fewer than 150 calories and more than 3 grams of fiber. The results are sorted in descending order based on fiber content and the top 10 entries are selected. Finally, the variable `healthy_dishes` is printed, which provides a concise view of these healthy options. The accompanying heatmap visualizes the correlations between various nutritional features, revealing the strength of relationships among calories, carbohydrates, protein, fats, and the fried status of the dishes, with notable highlights such as a high correlation between calories and fats."
   ]
  },
  {
   "cell_type": "code",
   "execution_count": 8,
   "metadata": {
    "colab": {
     "base_uri": "https://localhost:8080/"
    },
    "id": "-qxEofjFVzFj",
    "outputId": "a5f30577-978e-4987-ed6c-8a1bf6cec115"
   },
   "outputs": [
    {
     "name": "stdout",
     "output_type": "stream",
     "text": [
      "                                             dish_name  calories_kcal  fibre_g\n",
      "832           Lotus stem pickle (Kamal kakdi ka achar)         102.69     8.58\n",
      "146  Black channa curry/Bengal gram curry (Kale cha...         140.68     7.99\n",
      "915                               Lemon coriander soup         108.06     6.77\n",
      "878                                      Green chutney          79.42     5.84\n",
      "150                   Kidney bean curry (Rajmah curry)         143.73     5.83\n",
      "430                                      Paushtik roti         149.26     5.74\n",
      "162  Beans with coconut (Nariyal aur sem/phali; Bea...         131.63     5.59\n",
      "201                                              Avial         124.56     5.44\n",
      "163  Cauliflower with coconut (Nariyal ke saath pho...         132.11     5.27\n",
      "481                             Methi parantha/paratha         148.36     5.09\n"
     ]
    }
   ],
   "source": [
    "healthy_dishes = df[['dish_name', 'calories_kcal', 'fibre_g']].query(\n",
    "    'calories_kcal < 150 and fibre_g > 3'\n",
    ").sort_values(by='fibre_g', ascending=False).head(10)\n",
    "\n",
    "print(healthy_dishes)"
   ]
  },
  {
   "cell_type": "markdown",
   "metadata": {
    "id": "JTt7Qs2CVzFk"
   },
   "source": [
    "#### Top Recommendations\n",
    "**Lotus stem pickle:** 102.7 kcal, 8.6g fiber\n",
    "**Black channa curry:** 140.7 kcal, 8g fiber\n",
    "**Lemon coriander soup:** 108 kcal, 6.8g fiber\n",
    "This supports users looking for nutritionally dense but calorie-light meals, aligned with public health goals.\n",
    "\n",
    "Incorporating nutritionally dense yet calorie-light meals is essential for promoting public health goals, and the above recommendations fit this criterion perfectly. The **Lotus Stem Pickle** provides 102.7 kcal and an impressive 8.6g of fiber, making it a flavorful addition to any meal. The **Black Channa Curry** comes in at 140.7 kcal with 8g of fiber, offering both protein and satiety. Additionally, the **Lemon Coriander Soup** is a light yet nourishing option with 108 kcal and 6.8g of fiber, perfect for a comforting starter. These dishes not only support dietary fiber intake but also encourage healthier eating habits by providing satisfying flavors within a calorie-conscious framework."
   ]
  },
  {
   "cell_type": "markdown",
   "metadata": {
    "id": "YadtxO_aVzFk"
   },
   "source": [
    "## 8. Proposed Streamlit Deployment Interface"
   ]
  },
  {
   "cell_type": "markdown",
   "metadata": {
    "id": "nSDdoLV0VzFk"
   },
   "source": [
    "The interactive web app facilitates real-time predictions and tagging. The provided code below implements a web application using Streamlit called \"Indian Dish Nutrition Analyzer.\" It utilizes a pre-trained machine learning model for predicting calories based on food input, loaded via the joblib library. Furthermore, it incorporates a zero-shot classification pipeline from the Hugging Face Transformers library to classify the dish based on its nutrition content. Users can input the name of an Indian dish and specify its carbohydrate content using a slider. The data appears to include various Indian dishes along with their calorie and fiber content, which would be utilized by the application to provide nutritional analysis and insights."
   ]
  },
  {
   "cell_type": "code",
   "execution_count": 10,
   "metadata": {
    "id": "3AMa6zkSVzFk"
   },
   "outputs": [],
   "source": [
    "# app.py\n",
    "import streamlit as st\n",
    "import joblib\n",
    "import pandas as pd\n",
    "from transformers import pipeline\n",
    "\n",
    "model = joblib.load('calorie_predictor.pkl')\n",
    "classifier = pipeline(\"zero-shot-classification\", model=\"facebook/bart-large-mnli\")\n",
    "\n",
    "st.title(\"Indian Dish Nutrition Analyzer\")\n",
    "# app.py\n",
    "import streamlit as st\n",
    "import joblib\n",
    "import pandas as pd\n",
    "from transformers import pipeline\n",
    "\n",
    "model = joblib.load('calorie_predictor.pkl')\n",
    "classifier = pipeline(\"zero-shot-classification\", model=\"facebook/bart-large-mnli\")\n",
    "\n",
    "st.title(\"Indian Dish Nutrition Analyzer\")\n",
    "\n",
    "dish = st.text_input(\"Dish Name\")\n",
    "carbs = st.slider(\"Carbs (g)\", 0.0, 100.0)"
   ]
  },
  {
   "cell_type": "markdown",
   "metadata": {
    "id": "d_TAqIPBVzFn"
   },
   "source": [
    "## 9. Discussion\n",
    "The Eat Smart framework delivers an interpretable, data-driven solution to a complex and culturally nuanced problem. This section reflects on key outcomes, limitations, and design decisions."
   ]
  },
  {
   "cell_type": "markdown",
   "metadata": {
    "id": "I_4jnQT9VzFn"
   },
   "source": [
    "### 9.1 Interpretability and Feature Relevance\n",
    "Rather than using opaque deep neural networks, the choice of a **Random Forest Regressor** was deliberate. It strikes a balance between predictive performance and interpretability. The feature importance analysis (via correlation and tree splits) confirmed that **fats and cooking methods (i.e., frying)** had the strongest influence on caloric outcomes. This aligns well with nutritional science and lends trust to predictions made by the model.\n",
    "\n",
    "Additionally, the engineered feature <mark>**is_fried**</mark>, while derived from simple heuristics, proved to be both **explainable and impactful** demonstrating how domain knowledge can effectively augment data-driven models.\n",
    "\n",
    "### 9.2 Semantic Tagging via Zero-Shot NLP\n",
    "The use of **zero-shot classification** with a BART-based model opens avenues for semantic enrichment without labeled data. The classifier was able to contextualize dishes like “Rajma Chawal” as a “main course” and “Jalebi” as “dessert” despite the lack of prior examples—highlighting the model’s transfer learning strength.\n",
    "\n",
    "While highly effective, the current tagging does have a few limitations:\n",
    "\n",
    "- Some classifications may appear ambiguous due to regional naming (e.g., “Pongal” could be savory or sweet).\n",
    "- The model is English-centric and relies on transliterated dish names; inclusion of regional scripts might further improve performance.\n",
    "\n",
    "### 9.3 Deployment and Usability\n",
    "The Streamlit app’s minimal interface—macronutrient sliders and dish text input—ensures the tool remains usable even for non-technical users. Despite this simplicity, the backend executes advanced ML/NLP pipelines, hiding technical complexity from the user.\n",
    "\n",
    "The instant display of predicted calories and tag metadata enables **on-the-fly dietary evaluation**, which is rare in existing nutrition apps, particularly for Indian meals."
   ]
  },
  {
   "cell_type": "markdown",
   "metadata": {
    "id": "x8YfEaHGVzFn"
   },
   "source": [
    "## 10. Conclusion"
   ]
  },
  {
   "cell_type": "markdown",
   "metadata": {
    "id": "Gv5RWFu1VzFn"
   },
   "source": [
    "This study presents a comprehensive pipeline that contextualizes Indian cuisine using machine learning and language models. It demonstrates the feasibility and utility of:\n",
    "\n",
    "- Predicting **caloric values** with 98% accuracy using a transparent model and well-engineered features.\n",
    "- Tagging **flavor** and **course types** of dishes without manual labeling using state-of-the-art zero-shot NLP.\n",
    "- Generating **health recommendations** based on high fiber and low calorie thresholds.\n",
    "- Deploying a **real-time application** that personalizes nutrition analysis with minimal user input."
   ]
  },
  {
   "cell_type": "markdown",
   "metadata": {
    "id": "RTT7JVnYVzFn"
   },
   "source": [
    "### 10.1 Future Work\n",
    "There is rich scope for further exploration:\n",
    "\n",
    "- **Ingredient Extraction:** Enhance granularity by using NER or dependency parsing to understand quantity and type.\n",
    "- **Personalized Meal Planning:** Incorporate user goals (weight loss, diabetes, muscle gain) into calorie/fiber recommendations.\n",
    "- **Multi-modal Data:** Combine image classification of dishes (e.g., from smartphone photos) with textual inputs for richer prediction.\n",
    "- **Voice/Conversational Interface:** Enable interaction using natural language queries, especially for low-literacy populations."
   ]
  },
  {
   "cell_type": "code",
   "execution_count": null,
   "metadata": {
    "id": "yoxn3lGRVzFo"
   },
   "outputs": [],
   "source": []
  }
 ],
 "metadata": {
  "accelerator": "GPU",
  "colab": {
   "gpuType": "T4",
   "provenance": []
  },
  "kernelspec": {
   "display_name": "Python 3 (ipykernel)",
   "language": "python",
   "name": "python3"
  },
  "language_info": {
   "codemirror_mode": {
    "name": "ipython",
    "version": 3
   },
   "file_extension": ".py",
   "mimetype": "text/x-python",
   "name": "python",
   "nbconvert_exporter": "python",
   "pygments_lexer": "ipython3",
   "version": "3.13.5"
  },
  "widgets": {
   "application/vnd.jupyter.widget-state+json": {
    "057dc9ed29494c1d81fbaf05de58fb72": {
     "model_module": "@jupyter-widgets/controls",
     "model_module_version": "1.5.0",
     "model_name": "ProgressStyleModel",
     "state": {
      "_model_module": "@jupyter-widgets/controls",
      "_model_module_version": "1.5.0",
      "_model_name": "ProgressStyleModel",
      "_view_count": null,
      "_view_module": "@jupyter-widgets/base",
      "_view_module_version": "1.2.0",
      "_view_name": "StyleView",
      "bar_color": null,
      "description_width": ""
     }
    },
    "059c5333aee4417ebcb66fa54b2a22d2": {
     "model_module": "@jupyter-widgets/controls",
     "model_module_version": "1.5.0",
     "model_name": "HTMLModel",
     "state": {
      "_dom_classes": [],
      "_model_module": "@jupyter-widgets/controls",
      "_model_module_version": "1.5.0",
      "_model_name": "HTMLModel",
      "_view_count": null,
      "_view_module": "@jupyter-widgets/controls",
      "_view_module_version": "1.5.0",
      "_view_name": "HTMLView",
      "description": "",
      "description_tooltip": null,
      "layout": "IPY_MODEL_adcd62c86e6d46a1b8b1b18266f42330",
      "placeholder": "​",
      "style": "IPY_MODEL_9edf64eef23d4c9ba61fa9354ea898d2",
      "value": " 899k/899k [00:00&lt;00:00, 1.76MB/s]"
     }
    },
    "0785c7cd9c4c49f98f166fc7d30c50b1": {
     "model_module": "@jupyter-widgets/base",
     "model_module_version": "1.2.0",
     "model_name": "LayoutModel",
     "state": {
      "_model_module": "@jupyter-widgets/base",
      "_model_module_version": "1.2.0",
      "_model_name": "LayoutModel",
      "_view_count": null,
      "_view_module": "@jupyter-widgets/base",
      "_view_module_version": "1.2.0",
      "_view_name": "LayoutView",
      "align_content": null,
      "align_items": null,
      "align_self": null,
      "border": null,
      "bottom": null,
      "display": null,
      "flex": null,
      "flex_flow": null,
      "grid_area": null,
      "grid_auto_columns": null,
      "grid_auto_flow": null,
      "grid_auto_rows": null,
      "grid_column": null,
      "grid_gap": null,
      "grid_row": null,
      "grid_template_areas": null,
      "grid_template_columns": null,
      "grid_template_rows": null,
      "height": null,
      "justify_content": null,
      "justify_items": null,
      "left": null,
      "margin": null,
      "max_height": null,
      "max_width": null,
      "min_height": null,
      "min_width": null,
      "object_fit": null,
      "object_position": null,
      "order": null,
      "overflow": null,
      "overflow_x": null,
      "overflow_y": null,
      "padding": null,
      "right": null,
      "top": null,
      "visibility": null,
      "width": null
     }
    },
    "086997c741e24e1fbce80ec60761b9a6": {
     "model_module": "@jupyter-widgets/controls",
     "model_module_version": "1.5.0",
     "model_name": "ProgressStyleModel",
     "state": {
      "_model_module": "@jupyter-widgets/controls",
      "_model_module_version": "1.5.0",
      "_model_name": "ProgressStyleModel",
      "_view_count": null,
      "_view_module": "@jupyter-widgets/base",
      "_view_module_version": "1.2.0",
      "_view_name": "StyleView",
      "bar_color": null,
      "description_width": ""
     }
    },
    "0a7190eddbf04ee8a051b1379e12be5f": {
     "model_module": "@jupyter-widgets/controls",
     "model_module_version": "1.5.0",
     "model_name": "HTMLModel",
     "state": {
      "_dom_classes": [],
      "_model_module": "@jupyter-widgets/controls",
      "_model_module_version": "1.5.0",
      "_model_name": "HTMLModel",
      "_view_count": null,
      "_view_module": "@jupyter-widgets/controls",
      "_view_module_version": "1.5.0",
      "_view_name": "HTMLView",
      "description": "",
      "description_tooltip": null,
      "layout": "IPY_MODEL_f7813264976046bb825deed5719f9ca6",
      "placeholder": "​",
      "style": "IPY_MODEL_efe91dadce6246f58db27373ad6f5d40",
      "value": " 456k/456k [00:00&lt;00:00, 1.29MB/s]"
     }
    },
    "0f44b0643a1445c3a974f68ab0bf8b58": {
     "model_module": "@jupyter-widgets/controls",
     "model_module_version": "1.5.0",
     "model_name": "HTMLModel",
     "state": {
      "_dom_classes": [],
      "_model_module": "@jupyter-widgets/controls",
      "_model_module_version": "1.5.0",
      "_model_name": "HTMLModel",
      "_view_count": null,
      "_view_module": "@jupyter-widgets/controls",
      "_view_module_version": "1.5.0",
      "_view_name": "HTMLView",
      "description": "",
      "description_tooltip": null,
      "layout": "IPY_MODEL_edafd0580a704da7b207a8b31c5ed309",
      "placeholder": "​",
      "style": "IPY_MODEL_8f067b1323d54cdb84b16b7cbb92cae0",
      "value": " 26.0/26.0 [00:00&lt;00:00, 2.63kB/s]"
     }
    },
    "13a19a69e1de437ebde4a85097125afc": {
     "model_module": "@jupyter-widgets/controls",
     "model_module_version": "1.5.0",
     "model_name": "FloatProgressModel",
     "state": {
      "_dom_classes": [],
      "_model_module": "@jupyter-widgets/controls",
      "_model_module_version": "1.5.0",
      "_model_name": "FloatProgressModel",
      "_view_count": null,
      "_view_module": "@jupyter-widgets/controls",
      "_view_module_version": "1.5.0",
      "_view_name": "ProgressView",
      "bar_style": "success",
      "description": "",
      "description_tooltip": null,
      "layout": "IPY_MODEL_321e1db5f2e043f58a85761aa17cde25",
      "max": 456318,
      "min": 0,
      "orientation": "horizontal",
      "style": "IPY_MODEL_057dc9ed29494c1d81fbaf05de58fb72",
      "value": 456318
     }
    },
    "14bb5200d15443ca937c1e5997308472": {
     "model_module": "@jupyter-widgets/controls",
     "model_module_version": "1.5.0",
     "model_name": "FloatProgressModel",
     "state": {
      "_dom_classes": [],
      "_model_module": "@jupyter-widgets/controls",
      "_model_module_version": "1.5.0",
      "_model_name": "FloatProgressModel",
      "_view_count": null,
      "_view_module": "@jupyter-widgets/controls",
      "_view_module_version": "1.5.0",
      "_view_name": "ProgressView",
      "bar_style": "success",
      "description": "",
      "description_tooltip": null,
      "layout": "IPY_MODEL_d6c6ad1dda0b4649959712713a7b722a",
      "max": 1629437147,
      "min": 0,
      "orientation": "horizontal",
      "style": "IPY_MODEL_b64899ef064d43d8b25d6d9e5a1fcdb4",
      "value": 1629437147
     }
    },
    "1716cdb24449457683c60136a56c9307": {
     "model_module": "@jupyter-widgets/controls",
     "model_module_version": "1.5.0",
     "model_name": "DescriptionStyleModel",
     "state": {
      "_model_module": "@jupyter-widgets/controls",
      "_model_module_version": "1.5.0",
      "_model_name": "DescriptionStyleModel",
      "_view_count": null,
      "_view_module": "@jupyter-widgets/base",
      "_view_module_version": "1.2.0",
      "_view_name": "StyleView",
      "description_width": ""
     }
    },
    "1d6059cdd66a4537aef4780301f570d0": {
     "model_module": "@jupyter-widgets/controls",
     "model_module_version": "1.5.0",
     "model_name": "HBoxModel",
     "state": {
      "_dom_classes": [],
      "_model_module": "@jupyter-widgets/controls",
      "_model_module_version": "1.5.0",
      "_model_name": "HBoxModel",
      "_view_count": null,
      "_view_module": "@jupyter-widgets/controls",
      "_view_module_version": "1.5.0",
      "_view_name": "HBoxView",
      "box_style": "",
      "children": [
       "IPY_MODEL_f380aaae551f4aa0863ebcd985ddabd3",
       "IPY_MODEL_f9abd28e424444b3a3b7ddf278c24f21",
       "IPY_MODEL_3e0eb125bccc46acbe5f028b0d030f15"
      ],
      "layout": "IPY_MODEL_602cf72d35e44d93a2af877a15b254e0"
     }
    },
    "22818b9c8ec8461fa8aac4bafe616772": {
     "model_module": "@jupyter-widgets/base",
     "model_module_version": "1.2.0",
     "model_name": "LayoutModel",
     "state": {
      "_model_module": "@jupyter-widgets/base",
      "_model_module_version": "1.2.0",
      "_model_name": "LayoutModel",
      "_view_count": null,
      "_view_module": "@jupyter-widgets/base",
      "_view_module_version": "1.2.0",
      "_view_name": "LayoutView",
      "align_content": null,
      "align_items": null,
      "align_self": null,
      "border": null,
      "bottom": null,
      "display": null,
      "flex": null,
      "flex_flow": null,
      "grid_area": null,
      "grid_auto_columns": null,
      "grid_auto_flow": null,
      "grid_auto_rows": null,
      "grid_column": null,
      "grid_gap": null,
      "grid_row": null,
      "grid_template_areas": null,
      "grid_template_columns": null,
      "grid_template_rows": null,
      "height": null,
      "justify_content": null,
      "justify_items": null,
      "left": null,
      "margin": null,
      "max_height": null,
      "max_width": null,
      "min_height": null,
      "min_width": null,
      "object_fit": null,
      "object_position": null,
      "order": null,
      "overflow": null,
      "overflow_x": null,
      "overflow_y": null,
      "padding": null,
      "right": null,
      "top": null,
      "visibility": null,
      "width": null
     }
    },
    "24a37f94447e4c8ca9b3136d8c7ae35e": {
     "model_module": "@jupyter-widgets/controls",
     "model_module_version": "1.5.0",
     "model_name": "HBoxModel",
     "state": {
      "_dom_classes": [],
      "_model_module": "@jupyter-widgets/controls",
      "_model_module_version": "1.5.0",
      "_model_name": "HBoxModel",
      "_view_count": null,
      "_view_module": "@jupyter-widgets/controls",
      "_view_module_version": "1.5.0",
      "_view_name": "HBoxView",
      "box_style": "",
      "children": [
       "IPY_MODEL_d4f07d8476f04fdbbaceb1fd4e0e0d62",
       "IPY_MODEL_d0bc7614db154afea6d91da725fb0c7f",
       "IPY_MODEL_059c5333aee4417ebcb66fa54b2a22d2"
      ],
      "layout": "IPY_MODEL_22818b9c8ec8461fa8aac4bafe616772"
     }
    },
    "2965063e00314d7785158421066610f3": {
     "model_module": "@jupyter-widgets/base",
     "model_module_version": "1.2.0",
     "model_name": "LayoutModel",
     "state": {
      "_model_module": "@jupyter-widgets/base",
      "_model_module_version": "1.2.0",
      "_model_name": "LayoutModel",
      "_view_count": null,
      "_view_module": "@jupyter-widgets/base",
      "_view_module_version": "1.2.0",
      "_view_name": "LayoutView",
      "align_content": null,
      "align_items": null,
      "align_self": null,
      "border": null,
      "bottom": null,
      "display": null,
      "flex": null,
      "flex_flow": null,
      "grid_area": null,
      "grid_auto_columns": null,
      "grid_auto_flow": null,
      "grid_auto_rows": null,
      "grid_column": null,
      "grid_gap": null,
      "grid_row": null,
      "grid_template_areas": null,
      "grid_template_columns": null,
      "grid_template_rows": null,
      "height": null,
      "justify_content": null,
      "justify_items": null,
      "left": null,
      "margin": null,
      "max_height": null,
      "max_width": null,
      "min_height": null,
      "min_width": null,
      "object_fit": null,
      "object_position": null,
      "order": null,
      "overflow": null,
      "overflow_x": null,
      "overflow_y": null,
      "padding": null,
      "right": null,
      "top": null,
      "visibility": null,
      "width": null
     }
    },
    "310fb6655ac0424f9564b80769ffc166": {
     "model_module": "@jupyter-widgets/controls",
     "model_module_version": "1.5.0",
     "model_name": "DescriptionStyleModel",
     "state": {
      "_model_module": "@jupyter-widgets/controls",
      "_model_module_version": "1.5.0",
      "_model_name": "DescriptionStyleModel",
      "_view_count": null,
      "_view_module": "@jupyter-widgets/base",
      "_view_module_version": "1.2.0",
      "_view_name": "StyleView",
      "description_width": ""
     }
    },
    "31c88daebb864c54bbdcc90a5ea6b3df": {
     "model_module": "@jupyter-widgets/base",
     "model_module_version": "1.2.0",
     "model_name": "LayoutModel",
     "state": {
      "_model_module": "@jupyter-widgets/base",
      "_model_module_version": "1.2.0",
      "_model_name": "LayoutModel",
      "_view_count": null,
      "_view_module": "@jupyter-widgets/base",
      "_view_module_version": "1.2.0",
      "_view_name": "LayoutView",
      "align_content": null,
      "align_items": null,
      "align_self": null,
      "border": null,
      "bottom": null,
      "display": null,
      "flex": null,
      "flex_flow": null,
      "grid_area": null,
      "grid_auto_columns": null,
      "grid_auto_flow": null,
      "grid_auto_rows": null,
      "grid_column": null,
      "grid_gap": null,
      "grid_row": null,
      "grid_template_areas": null,
      "grid_template_columns": null,
      "grid_template_rows": null,
      "height": null,
      "justify_content": null,
      "justify_items": null,
      "left": null,
      "margin": null,
      "max_height": null,
      "max_width": null,
      "min_height": null,
      "min_width": null,
      "object_fit": null,
      "object_position": null,
      "order": null,
      "overflow": null,
      "overflow_x": null,
      "overflow_y": null,
      "padding": null,
      "right": null,
      "top": null,
      "visibility": null,
      "width": null
     }
    },
    "321e1db5f2e043f58a85761aa17cde25": {
     "model_module": "@jupyter-widgets/base",
     "model_module_version": "1.2.0",
     "model_name": "LayoutModel",
     "state": {
      "_model_module": "@jupyter-widgets/base",
      "_model_module_version": "1.2.0",
      "_model_name": "LayoutModel",
      "_view_count": null,
      "_view_module": "@jupyter-widgets/base",
      "_view_module_version": "1.2.0",
      "_view_name": "LayoutView",
      "align_content": null,
      "align_items": null,
      "align_self": null,
      "border": null,
      "bottom": null,
      "display": null,
      "flex": null,
      "flex_flow": null,
      "grid_area": null,
      "grid_auto_columns": null,
      "grid_auto_flow": null,
      "grid_auto_rows": null,
      "grid_column": null,
      "grid_gap": null,
      "grid_row": null,
      "grid_template_areas": null,
      "grid_template_columns": null,
      "grid_template_rows": null,
      "height": null,
      "justify_content": null,
      "justify_items": null,
      "left": null,
      "margin": null,
      "max_height": null,
      "max_width": null,
      "min_height": null,
      "min_width": null,
      "object_fit": null,
      "object_position": null,
      "order": null,
      "overflow": null,
      "overflow_x": null,
      "overflow_y": null,
      "padding": null,
      "right": null,
      "top": null,
      "visibility": null,
      "width": null
     }
    },
    "365f336bc78b4752955840d6625a8dd8": {
     "model_module": "@jupyter-widgets/controls",
     "model_module_version": "1.5.0",
     "model_name": "HTMLModel",
     "state": {
      "_dom_classes": [],
      "_model_module": "@jupyter-widgets/controls",
      "_model_module_version": "1.5.0",
      "_model_name": "HTMLModel",
      "_view_count": null,
      "_view_module": "@jupyter-widgets/controls",
      "_view_module_version": "1.5.0",
      "_view_name": "HTMLView",
      "description": "",
      "description_tooltip": null,
      "layout": "IPY_MODEL_5f6a61b054f24bc3a3b9bccf160729b1",
      "placeholder": "​",
      "style": "IPY_MODEL_310fb6655ac0424f9564b80769ffc166",
      "value": " 1.63G/1.63G [00:25&lt;00:00, 116MB/s]"
     }
    },
    "3e0eb125bccc46acbe5f028b0d030f15": {
     "model_module": "@jupyter-widgets/controls",
     "model_module_version": "1.5.0",
     "model_name": "HTMLModel",
     "state": {
      "_dom_classes": [],
      "_model_module": "@jupyter-widgets/controls",
      "_model_module_version": "1.5.0",
      "_model_name": "HTMLModel",
      "_view_count": null,
      "_view_module": "@jupyter-widgets/controls",
      "_view_module_version": "1.5.0",
      "_view_name": "HTMLView",
      "description": "",
      "description_tooltip": null,
      "layout": "IPY_MODEL_4d89c80cec7c487591e541e7f0058d4c",
      "placeholder": "​",
      "style": "IPY_MODEL_1716cdb24449457683c60136a56c9307",
      "value": " 1.36M/1.36M [00:00&lt;00:00, 1.98MB/s]"
     }
    },
    "421cd65e1be743768871883f567d493a": {
     "model_module": "@jupyter-widgets/base",
     "model_module_version": "1.2.0",
     "model_name": "LayoutModel",
     "state": {
      "_model_module": "@jupyter-widgets/base",
      "_model_module_version": "1.2.0",
      "_model_name": "LayoutModel",
      "_view_count": null,
      "_view_module": "@jupyter-widgets/base",
      "_view_module_version": "1.2.0",
      "_view_name": "LayoutView",
      "align_content": null,
      "align_items": null,
      "align_self": null,
      "border": null,
      "bottom": null,
      "display": null,
      "flex": null,
      "flex_flow": null,
      "grid_area": null,
      "grid_auto_columns": null,
      "grid_auto_flow": null,
      "grid_auto_rows": null,
      "grid_column": null,
      "grid_gap": null,
      "grid_row": null,
      "grid_template_areas": null,
      "grid_template_columns": null,
      "grid_template_rows": null,
      "height": null,
      "justify_content": null,
      "justify_items": null,
      "left": null,
      "margin": null,
      "max_height": null,
      "max_width": null,
      "min_height": null,
      "min_width": null,
      "object_fit": null,
      "object_position": null,
      "order": null,
      "overflow": null,
      "overflow_x": null,
      "overflow_y": null,
      "padding": null,
      "right": null,
      "top": null,
      "visibility": null,
      "width": null
     }
    },
    "4bc090feb0804644a848f387015c2d29": {
     "model_module": "@jupyter-widgets/controls",
     "model_module_version": "1.5.0",
     "model_name": "FloatProgressModel",
     "state": {
      "_dom_classes": [],
      "_model_module": "@jupyter-widgets/controls",
      "_model_module_version": "1.5.0",
      "_model_name": "FloatProgressModel",
      "_view_count": null,
      "_view_module": "@jupyter-widgets/controls",
      "_view_module_version": "1.5.0",
      "_view_name": "ProgressView",
      "bar_style": "success",
      "description": "",
      "description_tooltip": null,
      "layout": "IPY_MODEL_0785c7cd9c4c49f98f166fc7d30c50b1",
      "max": 26,
      "min": 0,
      "orientation": "horizontal",
      "style": "IPY_MODEL_cacf8b731d7b4e968e83d42f2ba53181",
      "value": 26
     }
    },
    "4d6569fcf45246ffb437357c6bf5b79e": {
     "model_module": "@jupyter-widgets/base",
     "model_module_version": "1.2.0",
     "model_name": "LayoutModel",
     "state": {
      "_model_module": "@jupyter-widgets/base",
      "_model_module_version": "1.2.0",
      "_model_name": "LayoutModel",
      "_view_count": null,
      "_view_module": "@jupyter-widgets/base",
      "_view_module_version": "1.2.0",
      "_view_name": "LayoutView",
      "align_content": null,
      "align_items": null,
      "align_self": null,
      "border": null,
      "bottom": null,
      "display": null,
      "flex": null,
      "flex_flow": null,
      "grid_area": null,
      "grid_auto_columns": null,
      "grid_auto_flow": null,
      "grid_auto_rows": null,
      "grid_column": null,
      "grid_gap": null,
      "grid_row": null,
      "grid_template_areas": null,
      "grid_template_columns": null,
      "grid_template_rows": null,
      "height": null,
      "justify_content": null,
      "justify_items": null,
      "left": null,
      "margin": null,
      "max_height": null,
      "max_width": null,
      "min_height": null,
      "min_width": null,
      "object_fit": null,
      "object_position": null,
      "order": null,
      "overflow": null,
      "overflow_x": null,
      "overflow_y": null,
      "padding": null,
      "right": null,
      "top": null,
      "visibility": null,
      "width": null
     }
    },
    "4d89c80cec7c487591e541e7f0058d4c": {
     "model_module": "@jupyter-widgets/base",
     "model_module_version": "1.2.0",
     "model_name": "LayoutModel",
     "state": {
      "_model_module": "@jupyter-widgets/base",
      "_model_module_version": "1.2.0",
      "_model_name": "LayoutModel",
      "_view_count": null,
      "_view_module": "@jupyter-widgets/base",
      "_view_module_version": "1.2.0",
      "_view_name": "LayoutView",
      "align_content": null,
      "align_items": null,
      "align_self": null,
      "border": null,
      "bottom": null,
      "display": null,
      "flex": null,
      "flex_flow": null,
      "grid_area": null,
      "grid_auto_columns": null,
      "grid_auto_flow": null,
      "grid_auto_rows": null,
      "grid_column": null,
      "grid_gap": null,
      "grid_row": null,
      "grid_template_areas": null,
      "grid_template_columns": null,
      "grid_template_rows": null,
      "height": null,
      "justify_content": null,
      "justify_items": null,
      "left": null,
      "margin": null,
      "max_height": null,
      "max_width": null,
      "min_height": null,
      "min_width": null,
      "object_fit": null,
      "object_position": null,
      "order": null,
      "overflow": null,
      "overflow_x": null,
      "overflow_y": null,
      "padding": null,
      "right": null,
      "top": null,
      "visibility": null,
      "width": null
     }
    },
    "5936b339c8bc4d35a81acea394a829f1": {
     "model_module": "@jupyter-widgets/controls",
     "model_module_version": "1.5.0",
     "model_name": "HTMLModel",
     "state": {
      "_dom_classes": [],
      "_model_module": "@jupyter-widgets/controls",
      "_model_module_version": "1.5.0",
      "_model_name": "HTMLModel",
      "_view_count": null,
      "_view_module": "@jupyter-widgets/controls",
      "_view_module_version": "1.5.0",
      "_view_name": "HTMLView",
      "description": "",
      "description_tooltip": null,
      "layout": "IPY_MODEL_d09f60da155a44549d7ddddc7db10335",
      "placeholder": "​",
      "style": "IPY_MODEL_b8e64b27e5e3438ca1f4dab072b88c37",
      "value": "model.safetensors: 100%"
     }
    },
    "5f6a61b054f24bc3a3b9bccf160729b1": {
     "model_module": "@jupyter-widgets/base",
     "model_module_version": "1.2.0",
     "model_name": "LayoutModel",
     "state": {
      "_model_module": "@jupyter-widgets/base",
      "_model_module_version": "1.2.0",
      "_model_name": "LayoutModel",
      "_view_count": null,
      "_view_module": "@jupyter-widgets/base",
      "_view_module_version": "1.2.0",
      "_view_name": "LayoutView",
      "align_content": null,
      "align_items": null,
      "align_self": null,
      "border": null,
      "bottom": null,
      "display": null,
      "flex": null,
      "flex_flow": null,
      "grid_area": null,
      "grid_auto_columns": null,
      "grid_auto_flow": null,
      "grid_auto_rows": null,
      "grid_column": null,
      "grid_gap": null,
      "grid_row": null,
      "grid_template_areas": null,
      "grid_template_columns": null,
      "grid_template_rows": null,
      "height": null,
      "justify_content": null,
      "justify_items": null,
      "left": null,
      "margin": null,
      "max_height": null,
      "max_width": null,
      "min_height": null,
      "min_width": null,
      "object_fit": null,
      "object_position": null,
      "order": null,
      "overflow": null,
      "overflow_x": null,
      "overflow_y": null,
      "padding": null,
      "right": null,
      "top": null,
      "visibility": null,
      "width": null
     }
    },
    "602cf72d35e44d93a2af877a15b254e0": {
     "model_module": "@jupyter-widgets/base",
     "model_module_version": "1.2.0",
     "model_name": "LayoutModel",
     "state": {
      "_model_module": "@jupyter-widgets/base",
      "_model_module_version": "1.2.0",
      "_model_name": "LayoutModel",
      "_view_count": null,
      "_view_module": "@jupyter-widgets/base",
      "_view_module_version": "1.2.0",
      "_view_name": "LayoutView",
      "align_content": null,
      "align_items": null,
      "align_self": null,
      "border": null,
      "bottom": null,
      "display": null,
      "flex": null,
      "flex_flow": null,
      "grid_area": null,
      "grid_auto_columns": null,
      "grid_auto_flow": null,
      "grid_auto_rows": null,
      "grid_column": null,
      "grid_gap": null,
      "grid_row": null,
      "grid_template_areas": null,
      "grid_template_columns": null,
      "grid_template_rows": null,
      "height": null,
      "justify_content": null,
      "justify_items": null,
      "left": null,
      "margin": null,
      "max_height": null,
      "max_width": null,
      "min_height": null,
      "min_width": null,
      "object_fit": null,
      "object_position": null,
      "order": null,
      "overflow": null,
      "overflow_x": null,
      "overflow_y": null,
      "padding": null,
      "right": null,
      "top": null,
      "visibility": null,
      "width": null
     }
    },
    "6dc1955633e54a7aac5fd45cd107786a": {
     "model_module": "@jupyter-widgets/controls",
     "model_module_version": "1.5.0",
     "model_name": "HBoxModel",
     "state": {
      "_dom_classes": [],
      "_model_module": "@jupyter-widgets/controls",
      "_model_module_version": "1.5.0",
      "_model_name": "HBoxModel",
      "_view_count": null,
      "_view_module": "@jupyter-widgets/controls",
      "_view_module_version": "1.5.0",
      "_view_name": "HBoxView",
      "box_style": "",
      "children": [
       "IPY_MODEL_ccdd193f473a4fd7ba7cb53a65c9bfc9",
       "IPY_MODEL_e2dcb7fa3e364fb1bb3dd49942056f99",
       "IPY_MODEL_d2aa98ec42ee490d96eac903a4073f8e"
      ],
      "layout": "IPY_MODEL_e95800c744184b63b229ff8239a8ec65"
     }
    },
    "6dde683028d3478381b380fe64bdc3cf": {
     "model_module": "@jupyter-widgets/base",
     "model_module_version": "1.2.0",
     "model_name": "LayoutModel",
     "state": {
      "_model_module": "@jupyter-widgets/base",
      "_model_module_version": "1.2.0",
      "_model_name": "LayoutModel",
      "_view_count": null,
      "_view_module": "@jupyter-widgets/base",
      "_view_module_version": "1.2.0",
      "_view_name": "LayoutView",
      "align_content": null,
      "align_items": null,
      "align_self": null,
      "border": null,
      "bottom": null,
      "display": null,
      "flex": null,
      "flex_flow": null,
      "grid_area": null,
      "grid_auto_columns": null,
      "grid_auto_flow": null,
      "grid_auto_rows": null,
      "grid_column": null,
      "grid_gap": null,
      "grid_row": null,
      "grid_template_areas": null,
      "grid_template_columns": null,
      "grid_template_rows": null,
      "height": null,
      "justify_content": null,
      "justify_items": null,
      "left": null,
      "margin": null,
      "max_height": null,
      "max_width": null,
      "min_height": null,
      "min_width": null,
      "object_fit": null,
      "object_position": null,
      "order": null,
      "overflow": null,
      "overflow_x": null,
      "overflow_y": null,
      "padding": null,
      "right": null,
      "top": null,
      "visibility": null,
      "width": null
     }
    },
    "725b0442b0d74bfdad48728521903fb4": {
     "model_module": "@jupyter-widgets/controls",
     "model_module_version": "1.5.0",
     "model_name": "HBoxModel",
     "state": {
      "_dom_classes": [],
      "_model_module": "@jupyter-widgets/controls",
      "_model_module_version": "1.5.0",
      "_model_name": "HBoxModel",
      "_view_count": null,
      "_view_module": "@jupyter-widgets/controls",
      "_view_module_version": "1.5.0",
      "_view_name": "HBoxView",
      "box_style": "",
      "children": [
       "IPY_MODEL_5936b339c8bc4d35a81acea394a829f1",
       "IPY_MODEL_14bb5200d15443ca937c1e5997308472",
       "IPY_MODEL_365f336bc78b4752955840d6625a8dd8"
      ],
      "layout": "IPY_MODEL_a90c74cadbb74f599296aa5704d3ca15"
     }
    },
    "7c670a7488474d1390c6fbbc54f2cea2": {
     "model_module": "@jupyter-widgets/base",
     "model_module_version": "1.2.0",
     "model_name": "LayoutModel",
     "state": {
      "_model_module": "@jupyter-widgets/base",
      "_model_module_version": "1.2.0",
      "_model_name": "LayoutModel",
      "_view_count": null,
      "_view_module": "@jupyter-widgets/base",
      "_view_module_version": "1.2.0",
      "_view_name": "LayoutView",
      "align_content": null,
      "align_items": null,
      "align_self": null,
      "border": null,
      "bottom": null,
      "display": null,
      "flex": null,
      "flex_flow": null,
      "grid_area": null,
      "grid_auto_columns": null,
      "grid_auto_flow": null,
      "grid_auto_rows": null,
      "grid_column": null,
      "grid_gap": null,
      "grid_row": null,
      "grid_template_areas": null,
      "grid_template_columns": null,
      "grid_template_rows": null,
      "height": null,
      "justify_content": null,
      "justify_items": null,
      "left": null,
      "margin": null,
      "max_height": null,
      "max_width": null,
      "min_height": null,
      "min_width": null,
      "object_fit": null,
      "object_position": null,
      "order": null,
      "overflow": null,
      "overflow_x": null,
      "overflow_y": null,
      "padding": null,
      "right": null,
      "top": null,
      "visibility": null,
      "width": null
     }
    },
    "8897c01fc1c44a4db85877dd4d0b37af": {
     "model_module": "@jupyter-widgets/controls",
     "model_module_version": "1.5.0",
     "model_name": "DescriptionStyleModel",
     "state": {
      "_model_module": "@jupyter-widgets/controls",
      "_model_module_version": "1.5.0",
      "_model_name": "DescriptionStyleModel",
      "_view_count": null,
      "_view_module": "@jupyter-widgets/base",
      "_view_module_version": "1.2.0",
      "_view_name": "StyleView",
      "description_width": ""
     }
    },
    "89a285fb0d7847acbf903a6dfc1fde09": {
     "model_module": "@jupyter-widgets/controls",
     "model_module_version": "1.5.0",
     "model_name": "DescriptionStyleModel",
     "state": {
      "_model_module": "@jupyter-widgets/controls",
      "_model_module_version": "1.5.0",
      "_model_name": "DescriptionStyleModel",
      "_view_count": null,
      "_view_module": "@jupyter-widgets/base",
      "_view_module_version": "1.2.0",
      "_view_name": "StyleView",
      "description_width": ""
     }
    },
    "8bd106fd93284dc3941633b5e0a1fe77": {
     "model_module": "@jupyter-widgets/controls",
     "model_module_version": "1.5.0",
     "model_name": "HBoxModel",
     "state": {
      "_dom_classes": [],
      "_model_module": "@jupyter-widgets/controls",
      "_model_module_version": "1.5.0",
      "_model_name": "HBoxModel",
      "_view_count": null,
      "_view_module": "@jupyter-widgets/controls",
      "_view_module_version": "1.5.0",
      "_view_name": "HBoxView",
      "box_style": "",
      "children": [
       "IPY_MODEL_ed0b400ff7254f1e88a7597bdd64dc55",
       "IPY_MODEL_4bc090feb0804644a848f387015c2d29",
       "IPY_MODEL_0f44b0643a1445c3a974f68ab0bf8b58"
      ],
      "layout": "IPY_MODEL_7c670a7488474d1390c6fbbc54f2cea2"
     }
    },
    "8f067b1323d54cdb84b16b7cbb92cae0": {
     "model_module": "@jupyter-widgets/controls",
     "model_module_version": "1.5.0",
     "model_name": "DescriptionStyleModel",
     "state": {
      "_model_module": "@jupyter-widgets/controls",
      "_model_module_version": "1.5.0",
      "_model_name": "DescriptionStyleModel",
      "_view_count": null,
      "_view_module": "@jupyter-widgets/base",
      "_view_module_version": "1.2.0",
      "_view_name": "StyleView",
      "description_width": ""
     }
    },
    "9edf64eef23d4c9ba61fa9354ea898d2": {
     "model_module": "@jupyter-widgets/controls",
     "model_module_version": "1.5.0",
     "model_name": "DescriptionStyleModel",
     "state": {
      "_model_module": "@jupyter-widgets/controls",
      "_model_module_version": "1.5.0",
      "_model_name": "DescriptionStyleModel",
      "_view_count": null,
      "_view_module": "@jupyter-widgets/base",
      "_view_module_version": "1.2.0",
      "_view_name": "StyleView",
      "description_width": ""
     }
    },
    "a068c69794f347dcb2d5ed1e06be5573": {
     "model_module": "@jupyter-widgets/base",
     "model_module_version": "1.2.0",
     "model_name": "LayoutModel",
     "state": {
      "_model_module": "@jupyter-widgets/base",
      "_model_module_version": "1.2.0",
      "_model_name": "LayoutModel",
      "_view_count": null,
      "_view_module": "@jupyter-widgets/base",
      "_view_module_version": "1.2.0",
      "_view_name": "LayoutView",
      "align_content": null,
      "align_items": null,
      "align_self": null,
      "border": null,
      "bottom": null,
      "display": null,
      "flex": null,
      "flex_flow": null,
      "grid_area": null,
      "grid_auto_columns": null,
      "grid_auto_flow": null,
      "grid_auto_rows": null,
      "grid_column": null,
      "grid_gap": null,
      "grid_row": null,
      "grid_template_areas": null,
      "grid_template_columns": null,
      "grid_template_rows": null,
      "height": null,
      "justify_content": null,
      "justify_items": null,
      "left": null,
      "margin": null,
      "max_height": null,
      "max_width": null,
      "min_height": null,
      "min_width": null,
      "object_fit": null,
      "object_position": null,
      "order": null,
      "overflow": null,
      "overflow_x": null,
      "overflow_y": null,
      "padding": null,
      "right": null,
      "top": null,
      "visibility": null,
      "width": null
     }
    },
    "a90c74cadbb74f599296aa5704d3ca15": {
     "model_module": "@jupyter-widgets/base",
     "model_module_version": "1.2.0",
     "model_name": "LayoutModel",
     "state": {
      "_model_module": "@jupyter-widgets/base",
      "_model_module_version": "1.2.0",
      "_model_name": "LayoutModel",
      "_view_count": null,
      "_view_module": "@jupyter-widgets/base",
      "_view_module_version": "1.2.0",
      "_view_name": "LayoutView",
      "align_content": null,
      "align_items": null,
      "align_self": null,
      "border": null,
      "bottom": null,
      "display": null,
      "flex": null,
      "flex_flow": null,
      "grid_area": null,
      "grid_auto_columns": null,
      "grid_auto_flow": null,
      "grid_auto_rows": null,
      "grid_column": null,
      "grid_gap": null,
      "grid_row": null,
      "grid_template_areas": null,
      "grid_template_columns": null,
      "grid_template_rows": null,
      "height": null,
      "justify_content": null,
      "justify_items": null,
      "left": null,
      "margin": null,
      "max_height": null,
      "max_width": null,
      "min_height": null,
      "min_width": null,
      "object_fit": null,
      "object_position": null,
      "order": null,
      "overflow": null,
      "overflow_x": null,
      "overflow_y": null,
      "padding": null,
      "right": null,
      "top": null,
      "visibility": null,
      "width": null
     }
    },
    "a9a669587e6143838065a8a8baa6a953": {
     "model_module": "@jupyter-widgets/controls",
     "model_module_version": "1.5.0",
     "model_name": "DescriptionStyleModel",
     "state": {
      "_model_module": "@jupyter-widgets/controls",
      "_model_module_version": "1.5.0",
      "_model_name": "DescriptionStyleModel",
      "_view_count": null,
      "_view_module": "@jupyter-widgets/base",
      "_view_module_version": "1.2.0",
      "_view_name": "StyleView",
      "description_width": ""
     }
    },
    "adcd62c86e6d46a1b8b1b18266f42330": {
     "model_module": "@jupyter-widgets/base",
     "model_module_version": "1.2.0",
     "model_name": "LayoutModel",
     "state": {
      "_model_module": "@jupyter-widgets/base",
      "_model_module_version": "1.2.0",
      "_model_name": "LayoutModel",
      "_view_count": null,
      "_view_module": "@jupyter-widgets/base",
      "_view_module_version": "1.2.0",
      "_view_name": "LayoutView",
      "align_content": null,
      "align_items": null,
      "align_self": null,
      "border": null,
      "bottom": null,
      "display": null,
      "flex": null,
      "flex_flow": null,
      "grid_area": null,
      "grid_auto_columns": null,
      "grid_auto_flow": null,
      "grid_auto_rows": null,
      "grid_column": null,
      "grid_gap": null,
      "grid_row": null,
      "grid_template_areas": null,
      "grid_template_columns": null,
      "grid_template_rows": null,
      "height": null,
      "justify_content": null,
      "justify_items": null,
      "left": null,
      "margin": null,
      "max_height": null,
      "max_width": null,
      "min_height": null,
      "min_width": null,
      "object_fit": null,
      "object_position": null,
      "order": null,
      "overflow": null,
      "overflow_x": null,
      "overflow_y": null,
      "padding": null,
      "right": null,
      "top": null,
      "visibility": null,
      "width": null
     }
    },
    "b0ddf72796934843a038e8f0e03577dd": {
     "model_module": "@jupyter-widgets/controls",
     "model_module_version": "1.5.0",
     "model_name": "DescriptionStyleModel",
     "state": {
      "_model_module": "@jupyter-widgets/controls",
      "_model_module_version": "1.5.0",
      "_model_name": "DescriptionStyleModel",
      "_view_count": null,
      "_view_module": "@jupyter-widgets/base",
      "_view_module_version": "1.2.0",
      "_view_name": "StyleView",
      "description_width": ""
     }
    },
    "b64899ef064d43d8b25d6d9e5a1fcdb4": {
     "model_module": "@jupyter-widgets/controls",
     "model_module_version": "1.5.0",
     "model_name": "ProgressStyleModel",
     "state": {
      "_model_module": "@jupyter-widgets/controls",
      "_model_module_version": "1.5.0",
      "_model_name": "ProgressStyleModel",
      "_view_count": null,
      "_view_module": "@jupyter-widgets/base",
      "_view_module_version": "1.2.0",
      "_view_name": "StyleView",
      "bar_color": null,
      "description_width": ""
     }
    },
    "b8e64b27e5e3438ca1f4dab072b88c37": {
     "model_module": "@jupyter-widgets/controls",
     "model_module_version": "1.5.0",
     "model_name": "DescriptionStyleModel",
     "state": {
      "_model_module": "@jupyter-widgets/controls",
      "_model_module_version": "1.5.0",
      "_model_name": "DescriptionStyleModel",
      "_view_count": null,
      "_view_module": "@jupyter-widgets/base",
      "_view_module_version": "1.2.0",
      "_view_name": "StyleView",
      "description_width": ""
     }
    },
    "c2edc7bb62e74931a897c29fec15a472": {
     "model_module": "@jupyter-widgets/base",
     "model_module_version": "1.2.0",
     "model_name": "LayoutModel",
     "state": {
      "_model_module": "@jupyter-widgets/base",
      "_model_module_version": "1.2.0",
      "_model_name": "LayoutModel",
      "_view_count": null,
      "_view_module": "@jupyter-widgets/base",
      "_view_module_version": "1.2.0",
      "_view_name": "LayoutView",
      "align_content": null,
      "align_items": null,
      "align_self": null,
      "border": null,
      "bottom": null,
      "display": null,
      "flex": null,
      "flex_flow": null,
      "grid_area": null,
      "grid_auto_columns": null,
      "grid_auto_flow": null,
      "grid_auto_rows": null,
      "grid_column": null,
      "grid_gap": null,
      "grid_row": null,
      "grid_template_areas": null,
      "grid_template_columns": null,
      "grid_template_rows": null,
      "height": null,
      "justify_content": null,
      "justify_items": null,
      "left": null,
      "margin": null,
      "max_height": null,
      "max_width": null,
      "min_height": null,
      "min_width": null,
      "object_fit": null,
      "object_position": null,
      "order": null,
      "overflow": null,
      "overflow_x": null,
      "overflow_y": null,
      "padding": null,
      "right": null,
      "top": null,
      "visibility": null,
      "width": null
     }
    },
    "cacf8b731d7b4e968e83d42f2ba53181": {
     "model_module": "@jupyter-widgets/controls",
     "model_module_version": "1.5.0",
     "model_name": "ProgressStyleModel",
     "state": {
      "_model_module": "@jupyter-widgets/controls",
      "_model_module_version": "1.5.0",
      "_model_name": "ProgressStyleModel",
      "_view_count": null,
      "_view_module": "@jupyter-widgets/base",
      "_view_module_version": "1.2.0",
      "_view_name": "StyleView",
      "bar_color": null,
      "description_width": ""
     }
    },
    "ccdd193f473a4fd7ba7cb53a65c9bfc9": {
     "model_module": "@jupyter-widgets/controls",
     "model_module_version": "1.5.0",
     "model_name": "HTMLModel",
     "state": {
      "_dom_classes": [],
      "_model_module": "@jupyter-widgets/controls",
      "_model_module_version": "1.5.0",
      "_model_name": "HTMLModel",
      "_view_count": null,
      "_view_module": "@jupyter-widgets/controls",
      "_view_module_version": "1.5.0",
      "_view_name": "HTMLView",
      "description": "",
      "description_tooltip": null,
      "layout": "IPY_MODEL_2965063e00314d7785158421066610f3",
      "placeholder": "​",
      "style": "IPY_MODEL_dc2f8a83943f44aaae300ddfbad8237d",
      "value": "config.json: 100%"
     }
    },
    "d09f60da155a44549d7ddddc7db10335": {
     "model_module": "@jupyter-widgets/base",
     "model_module_version": "1.2.0",
     "model_name": "LayoutModel",
     "state": {
      "_model_module": "@jupyter-widgets/base",
      "_model_module_version": "1.2.0",
      "_model_name": "LayoutModel",
      "_view_count": null,
      "_view_module": "@jupyter-widgets/base",
      "_view_module_version": "1.2.0",
      "_view_name": "LayoutView",
      "align_content": null,
      "align_items": null,
      "align_self": null,
      "border": null,
      "bottom": null,
      "display": null,
      "flex": null,
      "flex_flow": null,
      "grid_area": null,
      "grid_auto_columns": null,
      "grid_auto_flow": null,
      "grid_auto_rows": null,
      "grid_column": null,
      "grid_gap": null,
      "grid_row": null,
      "grid_template_areas": null,
      "grid_template_columns": null,
      "grid_template_rows": null,
      "height": null,
      "justify_content": null,
      "justify_items": null,
      "left": null,
      "margin": null,
      "max_height": null,
      "max_width": null,
      "min_height": null,
      "min_width": null,
      "object_fit": null,
      "object_position": null,
      "order": null,
      "overflow": null,
      "overflow_x": null,
      "overflow_y": null,
      "padding": null,
      "right": null,
      "top": null,
      "visibility": null,
      "width": null
     }
    },
    "d0bc7614db154afea6d91da725fb0c7f": {
     "model_module": "@jupyter-widgets/controls",
     "model_module_version": "1.5.0",
     "model_name": "FloatProgressModel",
     "state": {
      "_dom_classes": [],
      "_model_module": "@jupyter-widgets/controls",
      "_model_module_version": "1.5.0",
      "_model_name": "FloatProgressModel",
      "_view_count": null,
      "_view_module": "@jupyter-widgets/controls",
      "_view_module_version": "1.5.0",
      "_view_name": "ProgressView",
      "bar_style": "success",
      "description": "",
      "description_tooltip": null,
      "layout": "IPY_MODEL_da7e9c09228745228d42f3446d719b0e",
      "max": 898822,
      "min": 0,
      "orientation": "horizontal",
      "style": "IPY_MODEL_086997c741e24e1fbce80ec60761b9a6",
      "value": 898822
     }
    },
    "d142b71e8e514be6b7e1359557347aa9": {
     "model_module": "@jupyter-widgets/controls",
     "model_module_version": "1.5.0",
     "model_name": "ProgressStyleModel",
     "state": {
      "_model_module": "@jupyter-widgets/controls",
      "_model_module_version": "1.5.0",
      "_model_name": "ProgressStyleModel",
      "_view_count": null,
      "_view_module": "@jupyter-widgets/base",
      "_view_module_version": "1.2.0",
      "_view_name": "StyleView",
      "bar_color": null,
      "description_width": ""
     }
    },
    "d2aa98ec42ee490d96eac903a4073f8e": {
     "model_module": "@jupyter-widgets/controls",
     "model_module_version": "1.5.0",
     "model_name": "HTMLModel",
     "state": {
      "_dom_classes": [],
      "_model_module": "@jupyter-widgets/controls",
      "_model_module_version": "1.5.0",
      "_model_name": "HTMLModel",
      "_view_count": null,
      "_view_module": "@jupyter-widgets/controls",
      "_view_module_version": "1.5.0",
      "_view_name": "HTMLView",
      "description": "",
      "description_tooltip": null,
      "layout": "IPY_MODEL_d2ca4a77a8614ab48911d658fcb3f244",
      "placeholder": "​",
      "style": "IPY_MODEL_e3dac4107abf439c97558d382f0c0a48",
      "value": " 1.15k/1.15k [00:00&lt;00:00, 32.6kB/s]"
     }
    },
    "d2ca4a77a8614ab48911d658fcb3f244": {
     "model_module": "@jupyter-widgets/base",
     "model_module_version": "1.2.0",
     "model_name": "LayoutModel",
     "state": {
      "_model_module": "@jupyter-widgets/base",
      "_model_module_version": "1.2.0",
      "_model_name": "LayoutModel",
      "_view_count": null,
      "_view_module": "@jupyter-widgets/base",
      "_view_module_version": "1.2.0",
      "_view_name": "LayoutView",
      "align_content": null,
      "align_items": null,
      "align_self": null,
      "border": null,
      "bottom": null,
      "display": null,
      "flex": null,
      "flex_flow": null,
      "grid_area": null,
      "grid_auto_columns": null,
      "grid_auto_flow": null,
      "grid_auto_rows": null,
      "grid_column": null,
      "grid_gap": null,
      "grid_row": null,
      "grid_template_areas": null,
      "grid_template_columns": null,
      "grid_template_rows": null,
      "height": null,
      "justify_content": null,
      "justify_items": null,
      "left": null,
      "margin": null,
      "max_height": null,
      "max_width": null,
      "min_height": null,
      "min_width": null,
      "object_fit": null,
      "object_position": null,
      "order": null,
      "overflow": null,
      "overflow_x": null,
      "overflow_y": null,
      "padding": null,
      "right": null,
      "top": null,
      "visibility": null,
      "width": null
     }
    },
    "d4f07d8476f04fdbbaceb1fd4e0e0d62": {
     "model_module": "@jupyter-widgets/controls",
     "model_module_version": "1.5.0",
     "model_name": "HTMLModel",
     "state": {
      "_dom_classes": [],
      "_model_module": "@jupyter-widgets/controls",
      "_model_module_version": "1.5.0",
      "_model_name": "HTMLModel",
      "_view_count": null,
      "_view_module": "@jupyter-widgets/controls",
      "_view_module_version": "1.5.0",
      "_view_name": "HTMLView",
      "description": "",
      "description_tooltip": null,
      "layout": "IPY_MODEL_4d6569fcf45246ffb437357c6bf5b79e",
      "placeholder": "​",
      "style": "IPY_MODEL_8897c01fc1c44a4db85877dd4d0b37af",
      "value": "vocab.json: 100%"
     }
    },
    "d6c6ad1dda0b4649959712713a7b722a": {
     "model_module": "@jupyter-widgets/base",
     "model_module_version": "1.2.0",
     "model_name": "LayoutModel",
     "state": {
      "_model_module": "@jupyter-widgets/base",
      "_model_module_version": "1.2.0",
      "_model_name": "LayoutModel",
      "_view_count": null,
      "_view_module": "@jupyter-widgets/base",
      "_view_module_version": "1.2.0",
      "_view_name": "LayoutView",
      "align_content": null,
      "align_items": null,
      "align_self": null,
      "border": null,
      "bottom": null,
      "display": null,
      "flex": null,
      "flex_flow": null,
      "grid_area": null,
      "grid_auto_columns": null,
      "grid_auto_flow": null,
      "grid_auto_rows": null,
      "grid_column": null,
      "grid_gap": null,
      "grid_row": null,
      "grid_template_areas": null,
      "grid_template_columns": null,
      "grid_template_rows": null,
      "height": null,
      "justify_content": null,
      "justify_items": null,
      "left": null,
      "margin": null,
      "max_height": null,
      "max_width": null,
      "min_height": null,
      "min_width": null,
      "object_fit": null,
      "object_position": null,
      "order": null,
      "overflow": null,
      "overflow_x": null,
      "overflow_y": null,
      "padding": null,
      "right": null,
      "top": null,
      "visibility": null,
      "width": null
     }
    },
    "da7e9c09228745228d42f3446d719b0e": {
     "model_module": "@jupyter-widgets/base",
     "model_module_version": "1.2.0",
     "model_name": "LayoutModel",
     "state": {
      "_model_module": "@jupyter-widgets/base",
      "_model_module_version": "1.2.0",
      "_model_name": "LayoutModel",
      "_view_count": null,
      "_view_module": "@jupyter-widgets/base",
      "_view_module_version": "1.2.0",
      "_view_name": "LayoutView",
      "align_content": null,
      "align_items": null,
      "align_self": null,
      "border": null,
      "bottom": null,
      "display": null,
      "flex": null,
      "flex_flow": null,
      "grid_area": null,
      "grid_auto_columns": null,
      "grid_auto_flow": null,
      "grid_auto_rows": null,
      "grid_column": null,
      "grid_gap": null,
      "grid_row": null,
      "grid_template_areas": null,
      "grid_template_columns": null,
      "grid_template_rows": null,
      "height": null,
      "justify_content": null,
      "justify_items": null,
      "left": null,
      "margin": null,
      "max_height": null,
      "max_width": null,
      "min_height": null,
      "min_width": null,
      "object_fit": null,
      "object_position": null,
      "order": null,
      "overflow": null,
      "overflow_x": null,
      "overflow_y": null,
      "padding": null,
      "right": null,
      "top": null,
      "visibility": null,
      "width": null
     }
    },
    "dc2f8a83943f44aaae300ddfbad8237d": {
     "model_module": "@jupyter-widgets/controls",
     "model_module_version": "1.5.0",
     "model_name": "DescriptionStyleModel",
     "state": {
      "_model_module": "@jupyter-widgets/controls",
      "_model_module_version": "1.5.0",
      "_model_name": "DescriptionStyleModel",
      "_view_count": null,
      "_view_module": "@jupyter-widgets/base",
      "_view_module_version": "1.2.0",
      "_view_name": "StyleView",
      "description_width": ""
     }
    },
    "de298bd8c21f4b6285fea36f5fc421dd": {
     "model_module": "@jupyter-widgets/controls",
     "model_module_version": "1.5.0",
     "model_name": "HTMLModel",
     "state": {
      "_dom_classes": [],
      "_model_module": "@jupyter-widgets/controls",
      "_model_module_version": "1.5.0",
      "_model_name": "HTMLModel",
      "_view_count": null,
      "_view_module": "@jupyter-widgets/controls",
      "_view_module_version": "1.5.0",
      "_view_name": "HTMLView",
      "description": "",
      "description_tooltip": null,
      "layout": "IPY_MODEL_a068c69794f347dcb2d5ed1e06be5573",
      "placeholder": "​",
      "style": "IPY_MODEL_b0ddf72796934843a038e8f0e03577dd",
      "value": "merges.txt: 100%"
     }
    },
    "e2dcb7fa3e364fb1bb3dd49942056f99": {
     "model_module": "@jupyter-widgets/controls",
     "model_module_version": "1.5.0",
     "model_name": "FloatProgressModel",
     "state": {
      "_dom_classes": [],
      "_model_module": "@jupyter-widgets/controls",
      "_model_module_version": "1.5.0",
      "_model_name": "FloatProgressModel",
      "_view_count": null,
      "_view_module": "@jupyter-widgets/controls",
      "_view_module_version": "1.5.0",
      "_view_name": "ProgressView",
      "bar_style": "success",
      "description": "",
      "description_tooltip": null,
      "layout": "IPY_MODEL_31c88daebb864c54bbdcc90a5ea6b3df",
      "max": 1154,
      "min": 0,
      "orientation": "horizontal",
      "style": "IPY_MODEL_d142b71e8e514be6b7e1359557347aa9",
      "value": 1154
     }
    },
    "e3dac4107abf439c97558d382f0c0a48": {
     "model_module": "@jupyter-widgets/controls",
     "model_module_version": "1.5.0",
     "model_name": "DescriptionStyleModel",
     "state": {
      "_model_module": "@jupyter-widgets/controls",
      "_model_module_version": "1.5.0",
      "_model_name": "DescriptionStyleModel",
      "_view_count": null,
      "_view_module": "@jupyter-widgets/base",
      "_view_module_version": "1.2.0",
      "_view_name": "StyleView",
      "description_width": ""
     }
    },
    "e7fd9b9e5b6d43d3b6700d47936dcb6d": {
     "model_module": "@jupyter-widgets/controls",
     "model_module_version": "1.5.0",
     "model_name": "ProgressStyleModel",
     "state": {
      "_model_module": "@jupyter-widgets/controls",
      "_model_module_version": "1.5.0",
      "_model_name": "ProgressStyleModel",
      "_view_count": null,
      "_view_module": "@jupyter-widgets/base",
      "_view_module_version": "1.2.0",
      "_view_name": "StyleView",
      "bar_color": null,
      "description_width": ""
     }
    },
    "e801ff8e583443039c5aef034fde1dd6": {
     "model_module": "@jupyter-widgets/controls",
     "model_module_version": "1.5.0",
     "model_name": "HBoxModel",
     "state": {
      "_dom_classes": [],
      "_model_module": "@jupyter-widgets/controls",
      "_model_module_version": "1.5.0",
      "_model_name": "HBoxModel",
      "_view_count": null,
      "_view_module": "@jupyter-widgets/controls",
      "_view_module_version": "1.5.0",
      "_view_name": "HBoxView",
      "box_style": "",
      "children": [
       "IPY_MODEL_de298bd8c21f4b6285fea36f5fc421dd",
       "IPY_MODEL_13a19a69e1de437ebde4a85097125afc",
       "IPY_MODEL_0a7190eddbf04ee8a051b1379e12be5f"
      ],
      "layout": "IPY_MODEL_c2edc7bb62e74931a897c29fec15a472"
     }
    },
    "e95800c744184b63b229ff8239a8ec65": {
     "model_module": "@jupyter-widgets/base",
     "model_module_version": "1.2.0",
     "model_name": "LayoutModel",
     "state": {
      "_model_module": "@jupyter-widgets/base",
      "_model_module_version": "1.2.0",
      "_model_name": "LayoutModel",
      "_view_count": null,
      "_view_module": "@jupyter-widgets/base",
      "_view_module_version": "1.2.0",
      "_view_name": "LayoutView",
      "align_content": null,
      "align_items": null,
      "align_self": null,
      "border": null,
      "bottom": null,
      "display": null,
      "flex": null,
      "flex_flow": null,
      "grid_area": null,
      "grid_auto_columns": null,
      "grid_auto_flow": null,
      "grid_auto_rows": null,
      "grid_column": null,
      "grid_gap": null,
      "grid_row": null,
      "grid_template_areas": null,
      "grid_template_columns": null,
      "grid_template_rows": null,
      "height": null,
      "justify_content": null,
      "justify_items": null,
      "left": null,
      "margin": null,
      "max_height": null,
      "max_width": null,
      "min_height": null,
      "min_width": null,
      "object_fit": null,
      "object_position": null,
      "order": null,
      "overflow": null,
      "overflow_x": null,
      "overflow_y": null,
      "padding": null,
      "right": null,
      "top": null,
      "visibility": null,
      "width": null
     }
    },
    "ed0b400ff7254f1e88a7597bdd64dc55": {
     "model_module": "@jupyter-widgets/controls",
     "model_module_version": "1.5.0",
     "model_name": "HTMLModel",
     "state": {
      "_dom_classes": [],
      "_model_module": "@jupyter-widgets/controls",
      "_model_module_version": "1.5.0",
      "_model_name": "HTMLModel",
      "_view_count": null,
      "_view_module": "@jupyter-widgets/controls",
      "_view_module_version": "1.5.0",
      "_view_name": "HTMLView",
      "description": "",
      "description_tooltip": null,
      "layout": "IPY_MODEL_f186875b62bb4109bf5e82daa8f327eb",
      "placeholder": "​",
      "style": "IPY_MODEL_89a285fb0d7847acbf903a6dfc1fde09",
      "value": "tokenizer_config.json: 100%"
     }
    },
    "edafd0580a704da7b207a8b31c5ed309": {
     "model_module": "@jupyter-widgets/base",
     "model_module_version": "1.2.0",
     "model_name": "LayoutModel",
     "state": {
      "_model_module": "@jupyter-widgets/base",
      "_model_module_version": "1.2.0",
      "_model_name": "LayoutModel",
      "_view_count": null,
      "_view_module": "@jupyter-widgets/base",
      "_view_module_version": "1.2.0",
      "_view_name": "LayoutView",
      "align_content": null,
      "align_items": null,
      "align_self": null,
      "border": null,
      "bottom": null,
      "display": null,
      "flex": null,
      "flex_flow": null,
      "grid_area": null,
      "grid_auto_columns": null,
      "grid_auto_flow": null,
      "grid_auto_rows": null,
      "grid_column": null,
      "grid_gap": null,
      "grid_row": null,
      "grid_template_areas": null,
      "grid_template_columns": null,
      "grid_template_rows": null,
      "height": null,
      "justify_content": null,
      "justify_items": null,
      "left": null,
      "margin": null,
      "max_height": null,
      "max_width": null,
      "min_height": null,
      "min_width": null,
      "object_fit": null,
      "object_position": null,
      "order": null,
      "overflow": null,
      "overflow_x": null,
      "overflow_y": null,
      "padding": null,
      "right": null,
      "top": null,
      "visibility": null,
      "width": null
     }
    },
    "efe91dadce6246f58db27373ad6f5d40": {
     "model_module": "@jupyter-widgets/controls",
     "model_module_version": "1.5.0",
     "model_name": "DescriptionStyleModel",
     "state": {
      "_model_module": "@jupyter-widgets/controls",
      "_model_module_version": "1.5.0",
      "_model_name": "DescriptionStyleModel",
      "_view_count": null,
      "_view_module": "@jupyter-widgets/base",
      "_view_module_version": "1.2.0",
      "_view_name": "StyleView",
      "description_width": ""
     }
    },
    "f186875b62bb4109bf5e82daa8f327eb": {
     "model_module": "@jupyter-widgets/base",
     "model_module_version": "1.2.0",
     "model_name": "LayoutModel",
     "state": {
      "_model_module": "@jupyter-widgets/base",
      "_model_module_version": "1.2.0",
      "_model_name": "LayoutModel",
      "_view_count": null,
      "_view_module": "@jupyter-widgets/base",
      "_view_module_version": "1.2.0",
      "_view_name": "LayoutView",
      "align_content": null,
      "align_items": null,
      "align_self": null,
      "border": null,
      "bottom": null,
      "display": null,
      "flex": null,
      "flex_flow": null,
      "grid_area": null,
      "grid_auto_columns": null,
      "grid_auto_flow": null,
      "grid_auto_rows": null,
      "grid_column": null,
      "grid_gap": null,
      "grid_row": null,
      "grid_template_areas": null,
      "grid_template_columns": null,
      "grid_template_rows": null,
      "height": null,
      "justify_content": null,
      "justify_items": null,
      "left": null,
      "margin": null,
      "max_height": null,
      "max_width": null,
      "min_height": null,
      "min_width": null,
      "object_fit": null,
      "object_position": null,
      "order": null,
      "overflow": null,
      "overflow_x": null,
      "overflow_y": null,
      "padding": null,
      "right": null,
      "top": null,
      "visibility": null,
      "width": null
     }
    },
    "f380aaae551f4aa0863ebcd985ddabd3": {
     "model_module": "@jupyter-widgets/controls",
     "model_module_version": "1.5.0",
     "model_name": "HTMLModel",
     "state": {
      "_dom_classes": [],
      "_model_module": "@jupyter-widgets/controls",
      "_model_module_version": "1.5.0",
      "_model_name": "HTMLModel",
      "_view_count": null,
      "_view_module": "@jupyter-widgets/controls",
      "_view_module_version": "1.5.0",
      "_view_name": "HTMLView",
      "description": "",
      "description_tooltip": null,
      "layout": "IPY_MODEL_421cd65e1be743768871883f567d493a",
      "placeholder": "​",
      "style": "IPY_MODEL_a9a669587e6143838065a8a8baa6a953",
      "value": "tokenizer.json: 100%"
     }
    },
    "f7813264976046bb825deed5719f9ca6": {
     "model_module": "@jupyter-widgets/base",
     "model_module_version": "1.2.0",
     "model_name": "LayoutModel",
     "state": {
      "_model_module": "@jupyter-widgets/base",
      "_model_module_version": "1.2.0",
      "_model_name": "LayoutModel",
      "_view_count": null,
      "_view_module": "@jupyter-widgets/base",
      "_view_module_version": "1.2.0",
      "_view_name": "LayoutView",
      "align_content": null,
      "align_items": null,
      "align_self": null,
      "border": null,
      "bottom": null,
      "display": null,
      "flex": null,
      "flex_flow": null,
      "grid_area": null,
      "grid_auto_columns": null,
      "grid_auto_flow": null,
      "grid_auto_rows": null,
      "grid_column": null,
      "grid_gap": null,
      "grid_row": null,
      "grid_template_areas": null,
      "grid_template_columns": null,
      "grid_template_rows": null,
      "height": null,
      "justify_content": null,
      "justify_items": null,
      "left": null,
      "margin": null,
      "max_height": null,
      "max_width": null,
      "min_height": null,
      "min_width": null,
      "object_fit": null,
      "object_position": null,
      "order": null,
      "overflow": null,
      "overflow_x": null,
      "overflow_y": null,
      "padding": null,
      "right": null,
      "top": null,
      "visibility": null,
      "width": null
     }
    },
    "f9abd28e424444b3a3b7ddf278c24f21": {
     "model_module": "@jupyter-widgets/controls",
     "model_module_version": "1.5.0",
     "model_name": "FloatProgressModel",
     "state": {
      "_dom_classes": [],
      "_model_module": "@jupyter-widgets/controls",
      "_model_module_version": "1.5.0",
      "_model_name": "FloatProgressModel",
      "_view_count": null,
      "_view_module": "@jupyter-widgets/controls",
      "_view_module_version": "1.5.0",
      "_view_name": "ProgressView",
      "bar_style": "success",
      "description": "",
      "description_tooltip": null,
      "layout": "IPY_MODEL_6dde683028d3478381b380fe64bdc3cf",
      "max": 1355863,
      "min": 0,
      "orientation": "horizontal",
      "style": "IPY_MODEL_e7fd9b9e5b6d43d3b6700d47936dcb6d",
      "value": 1355863
     }
    }
   }
  }
 },
 "nbformat": 4,
 "nbformat_minor": 4
}
